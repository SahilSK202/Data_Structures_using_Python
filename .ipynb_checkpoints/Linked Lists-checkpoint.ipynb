{
 "cells": [
  {
   "cell_type": "markdown",
   "metadata": {},
   "source": [
    "# Linked Lists"
   ]
  },
  {
   "cell_type": "markdown",
   "metadata": {},
   "source": [
    "### What are Linked Lists?"
   ]
  },
  {
   "cell_type": "markdown",
   "metadata": {},
   "source": [
    "A linked List is composed of nodes and references/pointers pointing from one node to other.\n",
    "\n",
    "* The last element points to NULL(__None__ in Python)\n",
    "* Can grow or shrink in size during execution of a program\n",
    "* Can be made just as long as required (until systems memory exhausts)"
   ]
  },
  {
   "cell_type": "markdown",
   "metadata": {},
   "source": [
    "### Properties of Linked Lists:"
   ]
  },
  {
   "cell_type": "markdown",
   "metadata": {},
   "source": [
    "\n",
    "* Each node contains a value, and a reference (also known as a pointer) to the next node. The last node, points to a null node. This means the list is at its end of the linked list.\n",
    "* Self referential structures are those structures that point to the same type of structure. e.g. here node points to another node. \n",
    "* Linked lists offer some important advantages over other linear data structures. \n",
    "* Unlike arrays, they are a dynamic data structure, It can allocate needed memory at run time.\n",
    "* Easy to implement and can store data of any type.\n",
    "* Efficient in manipulating first elements. (insertion & deletion)\n",
    "\n",
    "* However, linked lists do have some drawbacks. \n",
    "* Additionally, linked lists use more storage than the array due to their property of referencing the next node in the linked list.\n",
    "* Finally, unlike an array whose values are all stored in contiguous memory, a linked list's nodes are at arbitrary, possibly far apart locations in memory.\n",
    "* Reverse traversing a linked list is difficult. So we implement doubly linked list which again does memory wastage of references."
   ]
  },
  {
   "cell_type": "markdown",
   "metadata": {},
   "source": [
    "### Common Operations:\n",
    "* Insert           \n",
    "* Insert at end\n",
    "* Insert at beginning\n",
    "* Insert between\n",
    "* Delete                \n",
    "* Search                \n",
    "* Indexing"
   ]
  },
  {
   "cell_type": "markdown",
   "metadata": {},
   "source": [
    "### Time Complexity:"
   ]
  },
  {
   "cell_type": "markdown",
   "metadata": {},
   "source": [
    "* Insertion: O(1)\n",
    "    * Insertion at beginning (or front): O(1)\n",
    "    * Insertion in between: O(1)\n",
    "    * Insertion at End: O(n)\n",
    "* Deletion: O(1)\n",
    "* Indexing: O(n)\n",
    "* Searching: O(n)"
   ]
  },
  {
   "cell_type": "markdown",
   "metadata": {},
   "source": [
    "### Implementing Singly Linked List:"
   ]
  },
  {
   "cell_type": "code",
   "execution_count": 9,
   "metadata": {
    "ExecuteTime": {
     "end_time": "2021-06-09T10:50:56.425629Z",
     "start_time": "2021-06-09T10:50:56.390629Z"
    }
   },
   "outputs": [],
   "source": [
    "# Linked List and Node can be accomodated in separate classes for convenience\n",
    "class Node(object):\n",
    "    # Each node has its data and a pointer that points to next node in the Linked List\n",
    "    def __init__(self, data, next = None):\n",
    "        self.data = data;\n",
    "        self.next = next;\n",
    "        \n",
    "    # function to set data\n",
    "    def setData(self, data):\n",
    "        self.data = data;\n",
    "        \n",
    "    # function to get data of a particular node\n",
    "    def getData(self):\n",
    "        return self.data\n",
    "    \n",
    "    # function to set next node\n",
    "    def setNext(self, next):\n",
    "        self.next = next\n",
    "        \n",
    "    # function to get the next node\n",
    "    def getNext(self):\n",
    "        return self.next\n",
    "    \n",
    "class LinkedList(object):\n",
    "    # Defining the head of the linked list\n",
    "    def __init__(self):\n",
    "        self.head = None\n",
    "        self.size = 0\n",
    "        \n",
    "    # printing the data in the linked list\n",
    "    def printLinkedList(self):\n",
    "        temp = self.head\n",
    "        while(temp):\n",
    "            print(temp.data, end=' ')\n",
    "            temp = temp.next\n",
    "            \n",
    "    # inserting the node at the beginning\n",
    "    def insertAtStart(self, data):\n",
    "        self.size = self.size + 1\n",
    "        newNode = Node(data)\n",
    "        newNode.next = self.head\n",
    "        self.head = newNode\n",
    "        \n",
    "    # inserting the node in between the linked list (after a specific node)\n",
    "    def insertBetween(self, previousNode, data):\n",
    "        if (previousNode.next is None):\n",
    "            print('Previous node should have next node!')\n",
    "        else:\n",
    "            self.size = self.size + 1\n",
    "            newNode = Node(data)\n",
    "            newNode.next = previousNode.next\n",
    "            previousNode.next = newNode\n",
    "            \n",
    "    # inserting at the end of linked list\n",
    "    def insertAtEnd(self, data):\n",
    "        self.size = self.size + 1\n",
    "        newNode = Node(data)\n",
    "        temp = self.head\n",
    "        while(temp.next != None):         # get last node\n",
    "            temp = temp.next\n",
    "        temp.next = newNode\n",
    "        \n",
    "    # deleting an item based on data(or key)\n",
    "    def delete(self, data):\n",
    "        self.size = self.size - 1\n",
    "        temp = self.head\n",
    "        # if data/key is found in head node itself\n",
    "        if (temp.next is not None):\n",
    "            if(temp.data == data):\n",
    "                self.head = temp.next\n",
    "                temp = None\n",
    "                return\n",
    "            else:\n",
    "                #  else search all the nodes\n",
    "                while(temp.next != None):\n",
    "                    if(temp.data == data):\n",
    "                        break\n",
    "                    prev = temp          #save current node as previous so that we can go on to next node\n",
    "                    temp = temp.next\n",
    "                \n",
    "                # node not found\n",
    "                if temp == None:\n",
    "                    return\n",
    "                \n",
    "                prev.next = temp.next\n",
    "                return\n",
    "            \n",
    "    # getting size of linked list\n",
    "    def getSize(self):\n",
    "        temp = self.head\n",
    "        size = 0\n",
    "        while not temp:\n",
    "            size = size + 1\n",
    "            temp = temp.next\n",
    "        return size\n",
    "            \n",
    "    # iterative search\n",
    "    def search(self, node, data):\n",
    "        if node == None:\n",
    "            return False\n",
    "        if node.data == data:\n",
    "            return True\n",
    "        return self.search(node.getNext(), data)\n",
    "            \n",
    "\n",
    "    "
   ]
  },
  {
   "cell_type": "code",
   "execution_count": 10,
   "metadata": {
    "ExecuteTime": {
     "end_time": "2021-06-09T10:51:36.847585Z",
     "start_time": "2021-06-09T10:51:36.817572Z"
    }
   },
   "outputs": [
    {
     "name": "stdout",
     "output_type": "stream",
     "text": [
      "\n",
      "Size is : 0\n",
      "4 1 2 5 3 6 \n",
      "\n",
      "Size is : 3\n",
      "4 1 2 5 6 \n",
      "\n",
      "Size is : 2\n",
      "True\n"
     ]
    }
   ],
   "source": [
    "List = LinkedList()\n",
    "List.head = Node(1)                   # create the head node\n",
    "node2 = Node(2)\n",
    "List.head.setNext(node2)           # head node's next --> node2\n",
    "node3 = Node(3)\n",
    "print(\"\\nSize is :\",List.getSize())\n",
    "node2.setNext(node3)                # node2's next --> node3\n",
    "List.insertAtStart(4)                   # node4's next --> head-node --> node2 --> node3\n",
    "List.insertBetween(node2, 5)     # node2's next --> node5\n",
    "List.insertAtEnd(6)\n",
    "List.printLinkedList()\n",
    "print()\n",
    "print(\"\\nSize is :\",List.getSize())\n",
    "List.delete(3)\n",
    "List.printLinkedList()\n",
    "print()\n",
    "print(\"\\nSize is :\",List.getSize())\n",
    "print(List.search(List.head, 1))"
   ]
  },
  {
   "cell_type": "code",
   "execution_count": null,
   "metadata": {},
   "outputs": [],
   "source": []
  },
  {
   "cell_type": "markdown",
   "metadata": {},
   "source": [
    "### Some Important Points"
   ]
  },
  {
   "cell_type": "markdown",
   "metadata": {},
   "source": [
    "* In general, __array__ is considered a data structure for which size is fixed at the compile time and array memory is allocated either from __Data section__ (e.g. global array) or __Stack section__ (e.g. local array). \n",
    "* Similarly, linked list is considered a data structure for which size is not fixed and memory is allocated from __Heap section__ (e.g. using malloc() etc.) as and when needed. In this sense, array is taken as a static data structure (residing in Data or Stack section) while linked list is taken as a dynamic data structure (residing in Heap section).\n",
    "* The array elements are allocated memory in sequence i.e. __contiguous memory__ while nodes of a linked list are non-contiguous in memory. Though it sounds trivial yet this is the most important difference between array and linked list. It should be noted that due to this contiguous versus non-contiguous memory, array and linked list are different."
   ]
  },
  {
   "cell_type": "markdown",
   "metadata": {},
   "source": [
    "### Implementing Doubly Linked List:"
   ]
  },
  {
   "cell_type": "code",
   "execution_count": 5,
   "metadata": {
    "ExecuteTime": {
     "end_time": "2021-06-09T10:05:55.614133Z",
     "start_time": "2021-06-09T10:05:55.586131Z"
    }
   },
   "outputs": [],
   "source": [
    "class Node(object):\n",
    "    # Each node has its data and a pointer that points to next node in the Linked List\n",
    "    def __init__(self, data, next = None, previous = None):\n",
    "        self.data = data;\n",
    "        self.next = next;\n",
    "        self.previous = previous\n",
    "        \n",
    "class DoublyLinkedList(object):\n",
    "    def __init__(self):\n",
    "        self.head = None\n",
    "    \n",
    "    # for inserting at beginning of linked list\n",
    "    def insertAtStart(self, data):\n",
    "        newNode = Node(data)\n",
    "        if self.head == None:\n",
    "            self.head = newNode\n",
    "        else:\n",
    "            self.head.previous = newNode\n",
    "            newNode.next = self.head\n",
    "            self.head = newNode\n",
    "            \n",
    "    # for inserting at end of linked list\n",
    "    def insertAtEnd(self, data):\n",
    "        newNode = Node(data)\n",
    "        temp = self.head\n",
    "        while(temp.next != None):\n",
    "            temp = temp.next\n",
    "        temp.next = newNode\n",
    "        newNode.previous = temp\n",
    "        \n",
    "    # deleting a node from linked list\n",
    "    def delete(self, data):\n",
    "        temp = self.head\n",
    "        if(temp.next != None):\n",
    "            # if head node is to be deleted\n",
    "            if(temp.data == data):\n",
    "                temp.next.previous = None\n",
    "                self.head = temp.next\n",
    "                temp.next = None\n",
    "                del temp\n",
    "                return\n",
    "            else:\n",
    "                # traversing linked list\n",
    "                while(temp.next != None): \n",
    "                    if(temp.data == data):\n",
    "                        break\n",
    "                    temp = temp.next\n",
    "                if(temp.next):\n",
    "                    # if element to be deleted is in between\n",
    "                    temp.previous.next = temp.next\n",
    "                    temp.next.previous = temp.previous\n",
    "                    temp.next = None\n",
    "                    temp.previous = None\n",
    "                   \n",
    "                else:\n",
    "                    # if element to be deleted is the last element\n",
    "                    temp.previous.next = None\n",
    "                    temp.previous = None\n",
    "                del temp\n",
    "                return\n",
    "        \n",
    "        if (temp == None):\n",
    "            return\n",
    "        \n",
    "    # for printing the contents of linked lists\n",
    "    def printdll(self):\n",
    "        temp = self.head\n",
    "        while(temp != None):\n",
    "            print(temp.data, end=' ')\n",
    "            temp = temp.next\n",
    "            \n"
   ]
  },
  {
   "cell_type": "code",
   "execution_count": 8,
   "metadata": {
    "ExecuteTime": {
     "end_time": "2021-06-09T10:06:30.650116Z",
     "start_time": "2021-06-09T10:06:30.630115Z"
    }
   },
   "outputs": [
    {
     "name": "stdout",
     "output_type": "stream",
     "text": [
      "2 1 \n",
      "4 2 1 3 \n",
      "4 1 3 "
     ]
    }
   ],
   "source": [
    "dll = DoublyLinkedList()\n",
    "dll.insertAtStart(1)\n",
    "dll.insertAtStart(2)\n",
    "dll.printdll()\n",
    "print()\n",
    "dll.insertAtEnd(3)\n",
    "dll.insertAtStart(4)\n",
    "dll.printdll()\n",
    "dll.delete(2)\n",
    "print()\n",
    "dll.printdll()"
   ]
  },
  {
   "cell_type": "code",
   "execution_count": null,
   "metadata": {},
   "outputs": [],
   "source": []
  },
  {
   "cell_type": "code",
   "execution_count": null,
   "metadata": {},
   "outputs": [],
   "source": []
  }
 ],
 "metadata": {
  "kernelspec": {
   "display_name": "Python 3",
   "language": "python",
   "name": "python3"
  },
  "language_info": {
   "codemirror_mode": {
    "name": "ipython",
    "version": 3
   },
   "file_extension": ".py",
   "mimetype": "text/x-python",
   "name": "python",
   "nbconvert_exporter": "python",
   "pygments_lexer": "ipython3",
   "version": "3.8.8"
  },
  "toc": {
   "base_numbering": 1,
   "nav_menu": {},
   "number_sections": false,
   "sideBar": true,
   "skip_h1_title": false,
   "title_cell": "Table of Contents",
   "title_sidebar": "Contents",
   "toc_cell": false,
   "toc_position": {},
   "toc_section_display": true,
   "toc_window_display": false
  }
 },
 "nbformat": 4,
 "nbformat_minor": 2
}
