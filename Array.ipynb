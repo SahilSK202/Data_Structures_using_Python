{
 "cells": [
  {
   "cell_type": "markdown",
   "metadata": {},
   "source": []
  },
  {
   "cell_type": "markdown",
   "metadata": {},
   "source": [
    "# Arrays"
   ]
  },
  {
   "cell_type": "markdown",
   "metadata": {},
   "source": [
    "## What is an Array?"
   ]
  },
  {
   "cell_type": "markdown",
   "metadata": {},
   "source": [
    "* Array is a collection of similar data elements which are in a consecutive / contegious memeory.\n",
    "* Each element in the array is referenced by an index starting from 0.\n",
    "* The array elements can be accessed in constant time O(1) by using the index of element."
   ]
  },
  {
   "cell_type": "markdown",
   "metadata": {},
   "source": [
    "## Arrays in Python:"
   ]
  },
  {
   "cell_type": "markdown",
   "metadata": {},
   "source": [
    "Python does not have a native support for arrays, but has a more generic data structure called LIST. List provides all the options as array with more functionality.\n",
    "But with few tweaks we can implement Array data structure in Python.\n",
    "We will be seeing how to do this."
   ]
  },
  {
   "cell_type": "markdown",
   "metadata": {},
   "source": [
    "## Creating an array:"
   ]
  },
  {
   "cell_type": "code",
   "execution_count": 14,
   "metadata": {
    "ExecuteTime": {
     "end_time": "2021-06-08T11:13:02.918270Z",
     "start_time": "2021-06-08T11:13:02.887258Z"
    }
   },
   "outputs": [
    {
     "name": "stdout",
     "output_type": "stream",
     "text": [
      "0 0 0 0 0 0 0 0 0 0\n"
     ]
    }
   ],
   "source": [
    "class Array(object):\n",
    "    ''' sizeOfArray: denotes the total size of the array to be initialized\n",
    "       arrayType: denotes the data type of the array(as all the elements of the array have same data type)\n",
    "       arrayItems: values at each position of array\n",
    "    '''\n",
    "    def __init__(self, sizeOfArray, arrayType = int):\n",
    "        self.sizeOfArray = len(list(map(arrayType, range(sizeOfArray))))\n",
    "        self.arrayItems =[arrayType(0)] * sizeOfArray    # initialize array with zeroes\n",
    "        \n",
    "    def __str__(self):\n",
    "        return ' '.join([str(i) for i in self.arrayItems])\n",
    "\n",
    "    def __len__(self):\n",
    "        return len(self.arrayItems)\n",
    "\n",
    "    # magic methods to enable indexing\n",
    "    def __setitem__(self, index, data):\n",
    "        self.arrayItems[index] = data\n",
    "\n",
    "    def __getitem__(self, index):\n",
    "        return self.arrayItems[index]\n",
    "            \n",
    "    # function for search\n",
    "    def search(self, keyToSearch):\n",
    "        for i in range(self.sizeOfArray):\n",
    "            if (self.arrayItems[i] == keyToSearch):    # brute-forcing\n",
    "                return i     # index at which element/ key was found\n",
    "            \n",
    "        return -1          # if key not found, return -1\n",
    "    \n",
    "    # function for inserting an element\n",
    "    def insert(self, keyToInsert, position):\n",
    "        if(self.sizeOfArray > position):\n",
    "            for i in range(self.sizeOfArray - 2, position - 1, -1):\n",
    "                self.arrayItems[i + 1] = self.arrayItems[i]\n",
    "            self.arrayItems[position] = keyToInsert\n",
    "        else:\n",
    "            print('Array size is:', self.sizeOfArray)\n",
    "            \n",
    "    # function to delete an element\n",
    "    def delete(self, keyToDelete, position):\n",
    "        if(self.sizeOfArray > position):\n",
    "            for i in range(position, self.sizeOfArray - 1):\n",
    "                self.arrayItems[i] = self.arrayItems[i + 1]\n",
    "        else:\n",
    "            print('Array size is:', self.sizeOfArray)\n",
    "    \n",
    "a = Array(10, int)\n",
    "print(a)"
   ]
  },
  {
   "cell_type": "markdown",
   "metadata": {},
   "source": [
    "### Common array operations:"
   ]
  },
  {
   "cell_type": "markdown",
   "metadata": {},
   "source": [
    "* Search\n",
    "* Insert\n",
    "* Delete\n",
    "\n",
    "__Time complexity__:\n",
    "\n",
    "* Search: O(n)\n",
    "* Insert: O(n)\n",
    "* Delete: O(n)\n",
    "* Indexing: O(1)"
   ]
  },
  {
   "cell_type": "markdown",
   "metadata": {},
   "source": [
    "### Search Operation on Array:"
   ]
  },
  {
   "cell_type": "code",
   "execution_count": 2,
   "metadata": {
    "ExecuteTime": {
     "end_time": "2021-06-08T11:07:56.133306Z",
     "start_time": "2021-06-08T11:07:56.120311Z"
    }
   },
   "outputs": [
    {
     "name": "stdout",
     "output_type": "stream",
     "text": [
      "Element found at: 0\n"
     ]
    }
   ],
   "source": [
    "a = Array(10, int)\n",
    "index = a.search(0)\n",
    "print('Element found at:', index)"
   ]
  },
  {
   "cell_type": "markdown",
   "metadata": {},
   "source": [
    "### Insert Operation:"
   ]
  },
  {
   "cell_type": "code",
   "execution_count": 3,
   "metadata": {
    "ExecuteTime": {
     "end_time": "2021-06-08T11:07:56.809527Z",
     "start_time": "2021-06-08T11:07:56.797526Z"
    }
   },
   "outputs": [
    {
     "name": "stdout",
     "output_type": "stream",
     "text": [
      "0 0 1 2 3 0 0 0 0 0\n"
     ]
    }
   ],
   "source": [
    "a = Array(10, int)\n",
    "a.insert(1, 2)\n",
    "a.insert(2,3)\n",
    "a.insert(3,4)\n",
    "print(a)"
   ]
  },
  {
   "cell_type": "markdown",
   "metadata": {},
   "source": [
    "### Delete Operation:"
   ]
  },
  {
   "cell_type": "code",
   "execution_count": 4,
   "metadata": {
    "ExecuteTime": {
     "end_time": "2021-06-08T11:07:58.004806Z",
     "start_time": "2021-06-08T11:07:57.989802Z"
    }
   },
   "outputs": [
    {
     "name": "stdout",
     "output_type": "stream",
     "text": [
      "0 0 1 2 0 0 0 0 0 0\n",
      "Element found at: 2\n"
     ]
    }
   ],
   "source": [
    "a = Array(10, int)\n",
    "a.insert(1, 2)\n",
    "a.insert(2,3)\n",
    "a.insert(3,4)\n",
    "a.delete(3, 4)\n",
    "print(a)\n",
    "index = a.search(1)\n",
    "print('Element found at:',index)"
   ]
  },
  {
   "cell_type": "code",
   "execution_count": null,
   "metadata": {},
   "outputs": [],
   "source": []
  },
  {
   "cell_type": "markdown",
   "metadata": {},
   "source": [
    "## Python built-in module 'array'."
   ]
  },
  {
   "cell_type": "code",
   "execution_count": 10,
   "metadata": {
    "ExecuteTime": {
     "end_time": "2021-06-08T11:10:57.383786Z",
     "start_time": "2021-06-08T11:10:57.365777Z"
    }
   },
   "outputs": [
    {
     "name": "stdout",
     "output_type": "stream",
     "text": [
      "The new created array is : \n",
      "10 20 30 40 50 \n",
      "The appended array is : \n",
      "10 20 30 40 50 60 \n",
      "The array after insertion is : \n",
      "10 20 500 30 40 50 60 \n",
      "The array after deletion is : \n",
      "20 500 30 40 50 60 \n",
      "The array after pop operation is : \n",
      "20 30 40 50 60 \n",
      "The index of element 40 is :  2\n"
     ]
    }
   ],
   "source": [
    "# importing 'array' module \n",
    "import array\n",
    "\n",
    "# initializing array\n",
    "arr = array.array('i', [10, 20, 30, 40, 50])     # initialize array with integers ('i')\n",
    "\n",
    "# printing original array\n",
    "print (\"The new created array is : \")\n",
    "for i in range (0, len(arr)):\n",
    "    print (arr[i], end=\" \")\n",
    "\n",
    "# using append() to insert new value at end\n",
    "arr.append(60);\n",
    "\n",
    "# printing appended array\n",
    "print (\"\\nThe appended array is : \")\n",
    "for i in range (0, len(arr)):\n",
    "    print (arr[i], end=\" \")\n",
    "\n",
    "# using insert() to insert value at specific position\n",
    "# inserts 5 at 2nd position\n",
    "arr.insert(2, 500)\n",
    "\n",
    "# printing array after insertion\n",
    "print (\"\\nThe array after insertion is : \")\n",
    "for i in range (0, len(arr)):\n",
    "    print (arr[i], end=\" \")\n",
    "    \n",
    "arr.remove(10)\n",
    "\n",
    "# deleting a  value from array\n",
    "print (\"\\nThe array after deletion is : \")\n",
    "for i in range (0, len(arr)):\n",
    "    print (arr[i], end=\" \")\n",
    "    \n",
    "arr.pop(1)\n",
    "# deleting a  value from array\n",
    "print (\"\\nThe array after pop operation is : \")\n",
    "for i in range (0, len(arr)):\n",
    "    print (arr[i], end=\" \")\n",
    "    \n",
    "    \n",
    "# searching a  value from array\n",
    "print (\"\\nThe index of element 40 is : \",arr.index(40))   \n"
   ]
  },
  {
   "cell_type": "markdown",
   "metadata": {},
   "source": [
    "### Disadvantages of Array"
   ]
  },
  {
   "cell_type": "markdown",
   "metadata": {},
   "source": [
    "* __Fixed size__: The size of the array is static (we have to know size of an array at compile time, this can be overcome using Dynamic Arrays).\n",
    "* __One block allocation__: To allocate the array itself at the beginning, sometimes it may not be possible to get the memory for the complete array (if the array size is big).\n",
    "* __Complex position-based insertion__: To insert/delete an element at a given position, we may need to shift the existing elements. This will create a position for us to insert the new element at the desired position. If the position at which we want to add an element is at the beginning, then the shifting operation is more expensive ."
   ]
  },
  {
   "cell_type": "code",
   "execution_count": null,
   "metadata": {},
   "outputs": [],
   "source": []
  },
  {
   "cell_type": "markdown",
   "metadata": {},
   "source": [
    "### Practicals"
   ]
  },
  {
   "cell_type": "markdown",
   "metadata": {},
   "source": [
    "### 1. Reversing an array"
   ]
  },
  {
   "cell_type": "code",
   "execution_count": 5,
   "metadata": {
    "ExecuteTime": {
     "end_time": "2021-06-08T11:08:36.475775Z",
     "start_time": "2021-06-08T11:08:36.464773Z"
    }
   },
   "outputs": [],
   "source": [
    "def  reversingAnArray(start, end, myArray):\n",
    "    while(start < end):\n",
    "        myArray[start], myArray[end - 1] = myArray[end - 1], myArray[start]\n",
    "        start += 1\n",
    "        end -= 1\n"
   ]
  },
  {
   "cell_type": "code",
   "execution_count": 15,
   "metadata": {
    "ExecuteTime": {
     "end_time": "2021-06-08T11:13:47.439831Z",
     "start_time": "2021-06-08T11:13:47.427859Z"
    }
   },
   "outputs": [
    {
     "name": "stdout",
     "output_type": "stream",
     "text": [
      "Array before Reversing: 0 1 2 3 4 5 6 7 8 9\n",
      "Array after Reversing: 9 8 7 6 5 4 3 2 1 0\n"
     ]
    }
   ],
   "source": [
    "\n",
    "arr = Array(10)\n",
    "for i in range(len(arr)):\n",
    "    arr.insert(i, i)\n",
    "print('Array before Reversing:',arr)\n",
    "reversingAnArray(0, len(arr), arr)\n",
    "print('Array after Reversing:',arr)"
   ]
  },
  {
   "cell_type": "code",
   "execution_count": null,
   "metadata": {},
   "outputs": [],
   "source": []
  },
  {
   "cell_type": "markdown",
   "metadata": {},
   "source": [
    "### 2.Rotating an array "
   ]
  },
  {
   "cell_type": "code",
   "execution_count": 16,
   "metadata": {
    "ExecuteTime": {
     "end_time": "2021-06-08T11:13:53.464096Z",
     "start_time": "2021-06-08T11:13:53.451104Z"
    }
   },
   "outputs": [],
   "source": [
    "def rotation(rotateBy, myArray):\n",
    "    for i in range(0, rotateBy):\n",
    "        rotateOne(myArray)\n",
    "    return myArray\n",
    "\n",
    "def rotateOne(myArray):\n",
    "    for i in range(len(myArray) - 1):\n",
    "        myArray[i], myArray[i + 1] = myArray[i + 1], myArray[i]\n",
    "\n",
    "\n",
    "\n",
    "    "
   ]
  },
  {
   "cell_type": "code",
   "execution_count": 17,
   "metadata": {
    "ExecuteTime": {
     "end_time": "2021-06-08T11:14:06.866777Z",
     "start_time": "2021-06-08T11:14:06.853771Z"
    }
   },
   "outputs": [
    {
     "name": "stdout",
     "output_type": "stream",
     "text": [
      "Before Rotation: 0 1 2 3 4 5 6 7 8 9\n",
      "After Rotation: 3 4 5 6 7 8 9 0 1 2\n"
     ]
    }
   ],
   "source": [
    "arr = Array(10)\n",
    "for i in range(len(arr)):\n",
    "    arr.insert(i, i)\n",
    "print('Before Rotation:',arr)\n",
    "print('After Rotation:',rotation(3, arr))"
   ]
  },
  {
   "cell_type": "code",
   "execution_count": null,
   "metadata": {},
   "outputs": [],
   "source": []
  },
  {
   "cell_type": "markdown",
   "metadata": {},
   "source": [
    "## 3. Check sum"
   ]
  },
  {
   "cell_type": "code",
   "execution_count": 27,
   "metadata": {
    "ExecuteTime": {
     "end_time": "2021-06-08T11:23:15.196275Z",
     "start_time": "2021-06-08T11:23:15.180274Z"
    }
   },
   "outputs": [],
   "source": [
    "# Given an array A[] of n numbers and another number x, determines whether or not there exist two elements\n",
    "# in S whose sum is exactly x.\n",
    "\n",
    "def checkSum(array, sum):\n",
    "    # sort the array in ascending order\n",
    "    # new changes : made use of Python's inbuilt Merge Sort method\n",
    "    # Reason for such change : Worst case Time complexity of Quick Sort is O(n^2) whereas Worst Case Complexity of Merge Sort is O(nlog(n))\n",
    "    array = sorted(array)\n",
    "\n",
    "    leftIndex = 0\n",
    "    rightIndex = len(array) - 1\n",
    "\n",
    "    while (leftIndex < rightIndex):\n",
    "        if (array[leftIndex] + array[rightIndex] ==  sum):\n",
    "            return array[leftIndex], array[rightIndex]\n",
    "        elif(array[leftIndex] + array[rightIndex] < sum):\n",
    "            leftIndex += 1\n",
    "        else:\n",
    "            rightIndex -= 1\n",
    "\n",
    "    return False, False\n",
    "\n",
    "##def quickSort(array):\n",
    "##    if len(array) <= 1:\n",
    "##        return array\n",
    "##    pivot = array[len(array) // 2]\n",
    "##    left = [x for x in array if x < pivot]\n",
    "##    middle = [x for x in array if x == pivot]\n",
    "##    right = [x for x in array if x > pivot]\n",
    "##    return quickSort(left) + middle + quickSort(right)\n"
   ]
  },
  {
   "cell_type": "code",
   "execution_count": 29,
   "metadata": {
    "ExecuteTime": {
     "end_time": "2021-06-08T11:23:41.650706Z",
     "start_time": "2021-06-08T11:23:41.636709Z"
    }
   },
   "outputs": [
    {
     "name": "stdout",
     "output_type": "stream",
     "text": [
      "Array doesn't have elements with the sum: 0\n"
     ]
    }
   ],
   "source": [
    "arr = [10, 20, 30, 40, 50]\n",
    "sum = 0\n",
    "\n",
    "number1, number2 = checkSum(arr, sum)\n",
    "if(number1 and number2):\n",
    "    print('Array has elements:', number1, 'and', number2, 'with sum:', sum)\n",
    "else:\n",
    "    print('Array doesn\\'t have elements with the sum:', sum)"
   ]
  },
  {
   "cell_type": "code",
   "execution_count": null,
   "metadata": {},
   "outputs": [],
   "source": []
  }
 ],
 "metadata": {
  "kernelspec": {
   "display_name": "Python 3",
   "language": "python",
   "name": "python3"
  },
  "language_info": {
   "codemirror_mode": {
    "name": "ipython",
    "version": 3
   },
   "file_extension": ".py",
   "mimetype": "text/x-python",
   "name": "python",
   "nbconvert_exporter": "python",
   "pygments_lexer": "ipython3",
   "version": "3.8.8"
  },
  "toc": {
   "base_numbering": 1,
   "nav_menu": {},
   "number_sections": false,
   "sideBar": true,
   "skip_h1_title": false,
   "title_cell": "Table of Contents",
   "title_sidebar": "Contents",
   "toc_cell": false,
   "toc_position": {},
   "toc_section_display": false,
   "toc_window_display": false
  }
 },
 "nbformat": 4,
 "nbformat_minor": 2
}
