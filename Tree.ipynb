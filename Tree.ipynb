{
 "cells": [
  {
   "cell_type": "markdown",
   "metadata": {},
   "source": [
    "# Trees"
   ]
  },
  {
   "cell_type": "markdown",
   "metadata": {},
   "source": [
    "* A tree is a non-linear  **hierarchical** structure that consists of nodes connected by edges.\n",
    "* It is recursive data structure.\n",
    "* We have nodes with data and connection between nodes is done by edges.\n",
    "* The **root** of the tree is the node with no parents. There can be at most one root node in a tree.\n",
    "* The **edge** refers to the link from parent to child.\n",
    "* If a node A is immediate predecessor of node B then A is parent of B ( internal node)\n",
    "* and B is child of A.\n",
    "* A node with NO children is called _leaf_ node / external node.\n",
    "* Children of same parent are called _siblings_.\n"
   ]
  },
  {
   "cell_type": "markdown",
   "metadata": {},
   "source": [
    "### Applications of trees:"
   ]
  },
  {
   "cell_type": "markdown",
   "metadata": {},
   "source": [
    "*  Manipulate hierarchical data.\n",
    "* Make information easy to search (see tree traversal).\n",
    "* Manipulate sorted lists of data.\n",
    "* As a workflow for compositing digital images for visual effects.\n",
    "* Router algorithms\n",
    "* Form of a multi-stage decision-making (see business chess)."
   ]
  },
  {
   "cell_type": "markdown",
   "metadata": {},
   "source": [
    "## Binary Tree"
   ]
  },
  {
   "cell_type": "markdown",
   "metadata": {},
   "source": [
    "* A tree is called _binary tree_ if each node of the tree has 0, 1 or 2 children.\n",
    "* Empty tree is also a valid binary tree."
   ]
  },
  {
   "cell_type": "markdown",
   "metadata": {},
   "source": [
    "### Types of binary trees:"
   ]
  },
  {
   "cell_type": "markdown",
   "metadata": {},
   "source": [
    "1. **Full binary tree**:\n",
    "A Binary Tree is full if every node has 0 or 2 children. Following are examples of full binary tree.\n",
    "2. **Complete binary tree**:\n",
    "A Binary Tree is complete Binary Tree if all levels are completely filled except possibly the last level and the last level has all keys as left as possible.\n",
    "3. **Perfect Binary Tree**:\n",
    "A Binary tree is Perfect Binary Tree in which all internal nodes have two children and all leaves are at same level.\n",
    "4. **Balanced Binary Tree**:\n",
    "A binary tree is balanced if height of the tree is O(Log n) where n is number of nodes. For Example, AVL tree maintain O(Log n) height by making sure that the difference between heights of left and right subtrees is 1. Red-Black trees maintain O(Log n) height by making sure that the number of Black nodes on every root to leaf paths are same and there are no adjacent red nodes. Balanced Binary Search trees are performance wise good as they provide O(log n) time for search, insert and delete.\n",
    "5. **A degenerate (or pathological) tree**:\n",
    "A Tree where every internal node has one child. Such trees are performance-wise same as linked list.\n",
    "\n"
   ]
  },
  {
   "cell_type": "markdown",
   "metadata": {},
   "source": [
    "### Binary tree implementation:"
   ]
  },
  {
   "cell_type": "code",
   "execution_count": 2,
   "metadata": {
    "ExecuteTime": {
     "end_time": "2021-06-09T13:57:43.576853Z",
     "start_time": "2021-06-09T13:57:43.571852Z"
    }
   },
   "outputs": [],
   "source": [
    "class Node(object):\n",
    "    def __init__(self, data = None):\n",
    "        self.left = None\n",
    "        self.right = None\n",
    "        self.data = data\n",
    "    \n",
    "    # for setting left node\n",
    "    def setLeft(self, node):\n",
    "        self.left = node\n",
    "    \n",
    "    # for setting right node\n",
    "    def setRight(self, node):\n",
    "        self.right = node\n",
    "        \n",
    "    # for getting the left node\n",
    "    def getLeft(self):\n",
    "        return self.left\n",
    "    \n",
    "    # for getting right node\n",
    "    def getRight(self):\n",
    "        return self.right\n",
    "    \n",
    "    # for setting data of a node\n",
    "    def setData(self, data):\n",
    "        self.data = data\n",
    "        \n",
    "    # for getting data of a node\n",
    "    def getData(self):\n",
    "        return self.data\n",
    "    \n",
    "root = Node(1)\n",
    "root.setLeft(Node(2))\n",
    "root.setRight(Node(3))\n",
    "root.left.setLeft(Node(4))\n",
    "#  This will a create like this \n",
    "#                     1\n",
    "#                 /       \\\n",
    "#             2            3\n",
    "#         /\n",
    "#     4\n"
   ]
  },
  {
   "cell_type": "code",
   "execution_count": null,
   "metadata": {},
   "outputs": [],
   "source": []
  },
  {
   "cell_type": "code",
   "execution_count": null,
   "metadata": {},
   "outputs": [],
   "source": []
  },
  {
   "cell_type": "markdown",
   "metadata": {},
   "source": [
    "### Tree traversal:"
   ]
  },
  {
   "cell_type": "markdown",
   "metadata": {},
   "source": [
    "Unlike linear data structures (Array, Linked List, Queues, Stacks, etc) which have only one logical way to traverse them, trees can be traversed in different ways. Following are the generally used ways for traversing trees.\n",
    "\n",
    "* Inorder     (left, data, right)\n",
    "* Preorder   (data, left, right)\n",
    "* Postorder (left, right, data)"
   ]
  },
  {
   "cell_type": "code",
   "execution_count": 5,
   "metadata": {
    "ExecuteTime": {
     "end_time": "2021-06-09T14:16:01.443762Z",
     "start_time": "2021-06-09T14:16:01.435764Z"
    }
   },
   "outputs": [
    {
     "name": "stdout",
     "output_type": "stream",
     "text": [
      "Inorder  Traversal:\n",
      "4 2 1 3 \n",
      "Preorder Traversal:\n",
      "1 2 4 3 \n",
      "Postorder Traversal:\n",
      "4 2 3 1 "
     ]
    }
   ],
   "source": [
    "# in this we traverse first to the leftmost node, then print its data and then traverse for rightmost node\n",
    "def inorder(Tree):\n",
    "    if Tree:\n",
    "        inorder(Tree.getLeft())\n",
    "        print(Tree.getData(), end = ' ')\n",
    "        inorder(Tree.getRight())\n",
    "    return\n",
    "\n",
    "# in this we first print the root node and then traverse towards leftmost node and then to the rightmost node\n",
    "def preorder(Tree):\n",
    "    if Tree:\n",
    "        print(Tree.getData(), end = ' ')\n",
    "        preorder(Tree.getLeft())\n",
    "        preorder(Tree.getRight())\n",
    "    return \n",
    "\n",
    "# in this we first traverse to the leftmost node and then to the rightmost node and then print the data\n",
    "def postorder(Tree):\n",
    "    if Tree:\n",
    "        postorder(Tree.getLeft())\n",
    "        postorder(Tree.getRight())\n",
    "        print(Tree.getData(), end = ' ')\n",
    "    return\n",
    "\n",
    "print('Inorder  Traversal:')\n",
    "inorder(root)\n",
    "print('\\nPreorder Traversal:')\n",
    "preorder(root)\n",
    "print('\\nPostorder Traversal:')\n",
    "postorder(root)      "
   ]
  },
  {
   "cell_type": "markdown",
   "metadata": {},
   "source": [
    "## Binary Search Tree"
   ]
  },
  {
   "cell_type": "code",
   "execution_count": 6,
   "metadata": {
    "ExecuteTime": {
     "end_time": "2021-06-09T14:16:18.098213Z",
     "start_time": "2021-06-09T14:16:18.084213Z"
    }
   },
   "outputs": [],
   "source": [
    "class Node(object):\n",
    "    def __init__(self, data):\n",
    "        self.data = data\n",
    "        self.leftChild = None\n",
    "        self.rightChild = None\n",
    "\n",
    "    def insert(self, data):\n",
    "        ''' For inserting the data in the Tree '''\n",
    "        if self.data == data:\n",
    "            return False        # As BST cannot contain duplicate data\n",
    "\n",
    "        elif data < self.data:\n",
    "            ''' Data less than the root data is placed to the left of the root '''\n",
    "            if self.leftChild:\n",
    "                return self.leftChild.insert(data)\n",
    "            else:\n",
    "                self.leftChild = Node(data)\n",
    "                return True\n",
    "\n",
    "        else:\n",
    "            ''' Data greater than the root data is placed to the right of the root '''\n",
    "            if self.rightChild:\n",
    "                return self.rightChild.insert(data)\n",
    "            else:\n",
    "                self.rightChild = Node(data)\n",
    "                return True\n",
    "\n",
    "    def minValueNode(self, node):\n",
    "        current = node\n",
    "\n",
    "        # loop down to find the leftmost leaf\n",
    "        while(current.leftChild is not None):\n",
    "            current = current.leftChild\n",
    "\n",
    "        return current\n",
    "\n",
    "    def maxValueNode(self, node):\n",
    "        current = node\n",
    "\n",
    "        # loop down to find the leftmost leaf\n",
    "        while(current.rightChild is not None):\n",
    "            current = current.rightChild\n",
    "\n",
    "        return current\n",
    "\n",
    "\n",
    "    def delete(self, data,root):\n",
    "        ''' For deleting the node '''\n",
    "        if self is None:\n",
    "            return None\n",
    "\n",
    "        # if current node's data is less than that of root node, then only search in left subtree else right subtree\n",
    "        if data < self.data:\n",
    "            self.leftChild = self.leftChild.delete(data,root)\n",
    "        elif data > self.data:\n",
    "            self.rightChild = self.rightChild.delete(data,root)\n",
    "        else:\n",
    "            # deleting node with one child\n",
    "            if self.leftChild is None:\n",
    "\n",
    "                if self == root:\n",
    "                    temp = self.minValueNode(self.rightChild)\n",
    "                    self.data = temp.data\n",
    "                    self.rightChild = self.rightChild.delete(temp.data,root) \n",
    "\n",
    "                temp = self.rightChild\n",
    "                self = None\n",
    "                return temp\n",
    "            elif self.rightChild is None:\n",
    "\n",
    "                if self == root:\n",
    "                    temp = self.maxValueNode(self.leftChild)\n",
    "                    self.data = temp.data\n",
    "                    self.leftChild = self.leftChild.delete(temp.data,root) \n",
    "\n",
    "                temp = self.leftChild\n",
    "                self = None\n",
    "                return temp\n",
    "\n",
    "            # deleting node with two children\n",
    "            # first get the inorder successor\n",
    "            temp = self.minValueNode(self.rightChild)\n",
    "            self.data = temp.data\n",
    "            self.rightChild = self.rightChild.delete(temp.data,root)\n",
    "\n",
    "        return self\n",
    "\n",
    "    def find(self, data):\n",
    "        ''' This function checks whether the specified data is in tree or not '''\n",
    "        if(data == self.data):\n",
    "            return True\n",
    "        elif(data < self.data):\n",
    "            if self.leftChild:\n",
    "                return self.leftChild.find(data)\n",
    "            else:\n",
    "                return False\n",
    "        else:\n",
    "            if self.rightChild:\n",
    "                return self.rightChild.find(data)\n",
    "            else:\n",
    "                return False\n",
    "\n",
    "    def preorder(self):\n",
    "        '''For preorder traversal of the BST '''\n",
    "        if self:\n",
    "            print(str(self.data), end = ' ')\n",
    "            if self.leftChild:\n",
    "                self.leftChild.preorder()\n",
    "            if self.rightChild:\n",
    "                self.rightChild.preorder()\n",
    "\n",
    "    def inorder(self):\n",
    "        ''' For Inorder traversal of the BST '''\n",
    "        if self:\n",
    "            if self.leftChild:\n",
    "                self.leftChild.inorder()\n",
    "            print(str(self.data), end = ' ')\n",
    "            if self.rightChild:\n",
    "                self.rightChild.inorder()\n",
    "\n",
    "    def postorder(self):\n",
    "        ''' For postorder traversal of the BST '''\n",
    "        if self:\n",
    "            if self.leftChild:\n",
    "                self.leftChild.postorder()\n",
    "            if self.rightChild:\n",
    "                self.rightChild.postorder()\n",
    "            print(str(self.data), end = ' ')\n",
    "\n",
    "class Tree(object):\n",
    "    def __init__(self):\n",
    "        self.root = None\n",
    "\n",
    "    def insert(self, data):\n",
    "        if self.root:\n",
    "            return self.root.insert(data)\n",
    "        else:\n",
    "            self.root = Node(data)\n",
    "            return True\n",
    "\n",
    "    def delete(self, data):\n",
    "        if self.root is not None:\n",
    "            return self.root.delete(data,self.root)\n",
    "\n",
    "    def find(self, data):\n",
    "        if self.root:\n",
    "            return self.root.find(data)\n",
    "        else:\n",
    "            return False\n",
    "\n",
    "    def preorder(self):\n",
    "        if self.root is not None:\n",
    "            print()\n",
    "            print('Preorder: ')\n",
    "            self.root.preorder()\n",
    "\n",
    "    def inorder(self):\n",
    "        print()\n",
    "        if self.root is not None:\n",
    "            print('Inorder: ')\n",
    "            self.root.inorder()\n",
    "\n",
    "    def postorder(self):\n",
    "        print()\n",
    "        if self.root is not None:\n",
    "            print('Postorder: ')\n",
    "            self.root.postorder()\n",
    "\n",
    "\n",
    "    "
   ]
  },
  {
   "cell_type": "code",
   "execution_count": 7,
   "metadata": {
    "ExecuteTime": {
     "end_time": "2021-06-09T14:16:49.022310Z",
     "start_time": "2021-06-09T14:16:49.011310Z"
    }
   },
   "outputs": [
    {
     "name": "stdout",
     "output_type": "stream",
     "text": [
      "False\n",
      "True\n",
      "\n",
      "Preorder: \n",
      "10 5 4 8 7 12 20 15 13 \n",
      "Inorder: \n",
      "4 5 7 8 10 12 13 15 20 \n",
      "Postorder: \n",
      "4 7 8 5 13 15 20 12 10 \n",
      "\n",
      "After deleting 20\n",
      "\n",
      "Inorder: \n",
      "4 5 7 8 10 12 13 15 \n",
      "Preorder: \n",
      "10 5 4 8 7 12 15 13 \n",
      "\n",
      "After deleting 10\n",
      "\n",
      "Inorder: \n",
      "4 5 7 8 12 13 15 \n",
      "Preorder: \n",
      "12 5 4 8 7 15 13 "
     ]
    }
   ],
   "source": [
    "tree = Tree()\n",
    "tree.insert(10)\n",
    "tree.insert(12)\n",
    "tree.insert(5)\n",
    "tree.insert(4)\n",
    "tree.insert(20)\n",
    "tree.insert(8)\n",
    "tree.insert(7)\n",
    "tree.insert(15)\n",
    "tree.insert(13)\n",
    "print(tree.find(1))\n",
    "print(tree.find(12))\n",
    "''' Following tree is getting created:\n",
    "                    10\n",
    "                 /      \\\n",
    "               5         12\n",
    "              / \\           \\\n",
    "            4     8          20\n",
    "                 /          /\n",
    "                7         15\n",
    "                         /\n",
    "                       13\n",
    "'''\n",
    "\n",
    "tree.preorder()\n",
    "tree.inorder()\n",
    "tree.postorder()\n",
    "print('\\n\\nAfter deleting 20')\n",
    "tree.delete(20)\n",
    "tree.inorder()\n",
    "tree.preorder()\n",
    "print('\\n\\nAfter deleting 10')\n",
    "tree.delete(10)\n",
    "tree.inorder()\n",
    "tree.preorder()"
   ]
  },
  {
   "cell_type": "code",
   "execution_count": null,
   "metadata": {},
   "outputs": [],
   "source": []
  }
 ],
 "metadata": {
  "kernelspec": {
   "display_name": "Python 3",
   "language": "python",
   "name": "python3"
  },
  "language_info": {
   "codemirror_mode": {
    "name": "ipython",
    "version": 3
   },
   "file_extension": ".py",
   "mimetype": "text/x-python",
   "name": "python",
   "nbconvert_exporter": "python",
   "pygments_lexer": "ipython3",
   "version": "3.8.8"
  },
  "toc": {
   "base_numbering": 1,
   "nav_menu": {},
   "number_sections": false,
   "sideBar": true,
   "skip_h1_title": false,
   "title_cell": "Table of Contents",
   "title_sidebar": "Contents",
   "toc_cell": false,
   "toc_position": {},
   "toc_section_display": true,
   "toc_window_display": false
  }
 },
 "nbformat": 4,
 "nbformat_minor": 2
}
