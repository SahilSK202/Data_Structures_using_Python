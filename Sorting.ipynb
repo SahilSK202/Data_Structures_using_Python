{
 "cells": [
  {
   "cell_type": "markdown",
   "metadata": {},
   "source": [
    "# Bubble Sort"
   ]
  },
  {
   "cell_type": "code",
   "execution_count": 1,
   "metadata": {
    "ExecuteTime": {
     "end_time": "2021-06-10T14:28:08.855331Z",
     "start_time": "2021-06-10T14:28:08.848331Z"
    }
   },
   "outputs": [],
   "source": [
    "def bubble_sort(array):\n",
    "    n=len(array)\n",
    "    for i in range(0,n):\n",
    "        for j in range(0,n-i-1):\n",
    "            if array[j] > array[j + 1]:\n",
    "                array[j], array[j + 1] = array[j + 1], array[j] # swap"
   ]
  },
  {
   "cell_type": "markdown",
   "metadata": {},
   "source": [
    "## Optimized Bubble Sort"
   ]
  },
  {
   "cell_type": "code",
   "execution_count": 2,
   "metadata": {
    "ExecuteTime": {
     "end_time": "2021-06-10T14:28:09.843473Z",
     "start_time": "2021-06-10T14:28:09.595432Z"
    }
   },
   "outputs": [],
   "source": [
    "# optimized bubble sort does not increase or decrease asymtotic notations\n",
    "# however number of iterations can be reduced to some extent\n",
    "def optimized_bubble_sort(array):\n",
    "    global iterations\n",
    "    iterations = 0\n",
    "    for i in range(len(array) - 1):\n",
    "        swapped = False\n",
    "        for j in range(len(array) - 1):\n",
    "            iterations += 1\n",
    "            if array[j] > array[j + 1]:\n",
    "                array[j], array[j + 1] = array[j + 1], array[j]\n",
    "                swapped = True\n",
    "        # if no swapping is performed that means sorting is complete\n",
    "        # hence break out of the loop\n",
    "        if not swapped:          \n",
    "            break"
   ]
  },
  {
   "cell_type": "markdown",
   "metadata": {},
   "source": [
    "### Time Complexity:\n",
    "\n",
    "- Best Case: O(n)\n",
    "- Average Case: O(n<sup>2</sup>)\n",
    "- Worst Case:  O(n<sup>2</sup>)"
   ]
  },
  {
   "cell_type": "markdown",
   "metadata": {},
   "source": [
    "## Code for executing and seeing the difference in time complexities"
   ]
  },
  {
   "cell_type": "markdown",
   "metadata": {},
   "source": [
    "### Best Case Performance:"
   ]
  },
  {
   "cell_type": "code",
   "execution_count": 3,
   "metadata": {
    "ExecuteTime": {
     "end_time": "2021-06-10T14:28:10.785495Z",
     "start_time": "2021-06-10T14:28:10.779491Z"
    }
   },
   "outputs": [
    {
     "name": "stdout",
     "output_type": "stream",
     "text": [
      "18\n"
     ]
    }
   ],
   "source": [
    "# elements are already sorted\n",
    "array = [i for i in range(1, 20)]\n",
    "\n",
    "optimized_bubble_sort(array)\n",
    "# 20 ALREADY sorted elements need 18 iterations approx = n\n",
    "print(iterations)"
   ]
  },
  {
   "cell_type": "markdown",
   "metadata": {},
   "source": [
    "### Average Case Performance:"
   ]
  },
  {
   "cell_type": "code",
   "execution_count": 4,
   "metadata": {
    "ExecuteTime": {
     "end_time": "2021-06-10T14:28:11.215501Z",
     "start_time": "2021-06-10T14:28:11.211500Z"
    }
   },
   "outputs": [
    {
     "name": "stdout",
     "output_type": "stream",
     "text": [
      "252\n"
     ]
    }
   ],
   "source": [
    "import random\n",
    "# elements are randomly shuffled\n",
    "array = [i for i in range(1, 20)]\n",
    "random.shuffle(array)\n",
    "\n",
    "optimized_bubble_sort(array)\n",
    "# 20 shuffled elements need 324 iterations approx = n * n\n",
    "print(iterations)"
   ]
  },
  {
   "cell_type": "markdown",
   "metadata": {},
   "source": [
    "### Worst Case Performance:"
   ]
  },
  {
   "cell_type": "code",
   "execution_count": 5,
   "metadata": {
    "ExecuteTime": {
     "end_time": "2021-06-10T14:28:11.656292Z",
     "start_time": "2021-06-10T14:28:11.651291Z"
    }
   },
   "outputs": [
    {
     "name": "stdout",
     "output_type": "stream",
     "text": [
      "324\n"
     ]
    }
   ],
   "source": [
    "# elements are reverse sorted\n",
    "array = [i for i in range(1, 20)]\n",
    "# reversing the array\n",
    "array = array[::-1]\n",
    "\n",
    "optimized_bubble_sort(array)\n",
    "# 20 REVERSE sorted elements need 324 iterations approx = n * n\n",
    "\n",
    "print(iterations)"
   ]
  },
  {
   "cell_type": "markdown",
   "metadata": {},
   "source": [
    "## Applications"
   ]
  },
  {
   "cell_type": "markdown",
   "metadata": {},
   "source": [
    "When you're doing something quick and dirty and for some reason you can't just use the standard library's sorting algorithm. The only advantage this has over insertion sort is being slightly easier to implement."
   ]
  },
  {
   "cell_type": "markdown",
   "metadata": {},
   "source": [
    "## Bubble sort advantages\n",
    "\n",
    "* It is easy to understand\n",
    "* It performs very well when the list is already or almost sorted\n",
    "* It does not require extensive memory.\n",
    "* It is easy to write the code for the algorithm\n",
    "* The space requirements are minimal compared to other sorting algorithms."
   ]
  },
  {
   "cell_type": "markdown",
   "metadata": {},
   "source": [
    "## Bubble sort Disadvantages\n",
    "\n",
    "\n",
    "* It does not perform well when sorting large lists. It takes too much time and resources.\n",
    "* It's mostly used for academic purposes and not the real-world application.\n",
    "* The number of steps required to sort the list is of the order n2"
   ]
  },
  {
   "cell_type": "code",
   "execution_count": null,
   "metadata": {},
   "outputs": [],
   "source": []
  },
  {
   "cell_type": "markdown",
   "metadata": {},
   "source": [
    "## Selection Sort"
   ]
  },
  {
   "cell_type": "code",
   "execution_count": 8,
   "metadata": {
    "ExecuteTime": {
     "end_time": "2021-06-10T14:35:35.999476Z",
     "start_time": "2021-06-10T14:35:35.994477Z"
    }
   },
   "outputs": [],
   "source": [
    "def selection_sort(array):\n",
    "    global iterations\n",
    "    iterations = 0\n",
    "    for i in range(len(array)):\n",
    "        minimum_index = i\n",
    "        for j in range(i + 1, len(array)):\n",
    "            iterations += 1\n",
    "            if array[minimum_index] > array[j]:\n",
    "                minimum_index = j\n",
    "        \n",
    "        # Swap the found minimum element with \n",
    "        # the first element\n",
    "        if minimum_index != i:\n",
    "            array[i], array[minimum_index] = array[minimum_index], array[i]"
   ]
  },
  {
   "cell_type": "code",
   "execution_count": 9,
   "metadata": {
    "ExecuteTime": {
     "end_time": "2021-06-10T14:35:36.669130Z",
     "start_time": "2021-06-10T14:35:36.666128Z"
    }
   },
   "outputs": [
    {
     "name": "stdout",
     "output_type": "stream",
     "text": [
      "[1, 2, 3, 4, 5, 6, 7, 8, 9, 10, 11, 12, 13, 14, 15, 16, 17, 18, 19]\n",
      "171\n"
     ]
    }
   ],
   "source": [
    "# elements are already sorted\n",
    "array = [i for i in range(1, 20)]\n",
    "\n",
    "selection_sort(array)\n",
    "# 20 ALREADY sorted elements need 171 iterations approx = n*n\n",
    "print(array)\n",
    "print(iterations)"
   ]
  },
  {
   "cell_type": "markdown",
   "metadata": {},
   "source": [
    "### Time Complexity:\n",
    "* Best Case: O(n<sup>2</sup>)\n",
    "* Average Case: O(n<sup>2</sup>)\n",
    "* Worst Case: O(n<sup>2</sup>)"
   ]
  },
  {
   "cell_type": "markdown",
   "metadata": {},
   "source": [
    "## When to use selection sort?\n",
    "\n",
    "\n",
    "* You have to sort a small list of items in ascending order\n",
    "* When the cost of swapping values is insignificant\n",
    "* It is also used when you need to make sure that all the values in the list have been checked.\n",
    "\n",
    "\n",
    "## Advantages of Selection Sort\n",
    "\n",
    "\n",
    "* It performs very well on small lists\n",
    "* It is an in-place algorithm. It does not require a lot of space for sorting. Only one extra space is required for holding the temporal variable.\n",
    "* It performs well on items that have already been sorted.\n",
    "\n",
    "## Disadvantages of Selection Sort\n",
    "\n",
    "\n",
    "* It performs poorly when working on huge lists.\n",
    "* The number of iterations made during the sorting is n-squared, where n is the total number of elements in the list.\n",
    "* Other algorithms, such as quicksort, have better performance compared to the selection sort."
   ]
  },
  {
   "cell_type": "code",
   "execution_count": null,
   "metadata": {},
   "outputs": [],
   "source": []
  },
  {
   "cell_type": "markdown",
   "metadata": {},
   "source": [
    "## Insertion Sort"
   ]
  },
  {
   "cell_type": "code",
   "execution_count": 10,
   "metadata": {
    "ExecuteTime": {
     "end_time": "2021-06-10T14:44:57.919159Z",
     "start_time": "2021-06-10T14:44:57.914157Z"
    }
   },
   "outputs": [],
   "source": [
    "def insertion_sort(array):\n",
    "    global iterations\n",
    "    iterations = 0\n",
    "    for i in range(1, len(array)):\n",
    "        current_value = array[i]\n",
    "        for j in range(i - 1, -1, -1):\n",
    "            iterations += 1\n",
    "            if array[j] > current_value:\n",
    "                array[j], array[j + 1] = array[j + 1], array[j] # swap\n",
    "            else:\n",
    "                array[j + 1] = current_value\n",
    "                break"
   ]
  },
  {
   "cell_type": "code",
   "execution_count": 11,
   "metadata": {
    "ExecuteTime": {
     "end_time": "2021-06-10T14:44:58.309819Z",
     "start_time": "2021-06-10T14:44:58.305820Z"
    }
   },
   "outputs": [
    {
     "name": "stdout",
     "output_type": "stream",
     "text": [
      "[1, 2, 3, 4, 5, 6, 7, 8, 9, 10, 11, 12, 13, 14, 15, 16, 17, 18, 19]\n",
      "18\n"
     ]
    }
   ],
   "source": [
    "# elements are already sorted\n",
    "array = [i for i in range(1, 20)]\n",
    "\n",
    "insertion_sort(array)\n",
    "# 20 ALREADY sorted elements need 18 iterations approx = n\n",
    "print(array)\n",
    "print(iterations)"
   ]
  },
  {
   "cell_type": "markdown",
   "metadata": {
    "ExecuteTime": {
     "end_time": "2021-06-10T14:45:11.093838Z",
     "start_time": "2021-06-10T14:45:11.088839Z"
    }
   },
   "source": [
    "### Time Complexity:\n",
    "* Best Case: O(n)\n",
    "* Average Case: O(n<sup>2</sup>)\n",
    "* Worst Case: O(n<sup>2</sup>)"
   ]
  },
  {
   "cell_type": "markdown",
   "metadata": {},
   "source": [
    "## Merge Sort"
   ]
  },
  {
   "cell_type": "code",
   "execution_count": 13,
   "metadata": {
    "ExecuteTime": {
     "end_time": "2021-06-10T14:56:57.465149Z",
     "start_time": "2021-06-10T14:56:57.459148Z"
    }
   },
   "outputs": [],
   "source": [
    "def merge_sort(array):\n",
    "    if len(array) < 2:\n",
    "        return array\n",
    "    \n",
    "    mid = len(array) // 2\n",
    "    left = merge_sort(array[:mid])\n",
    "    right = merge_sort(array[mid:])\n",
    "    \n",
    "    return merge(left, right)\n",
    "\n",
    "def merge(left, right):\n",
    "    result = []\n",
    "    i, j = 0, 0\n",
    "    while i < len(left) or j < len(right):\n",
    "        if left[i] <= right[j]:\n",
    "            result.append(left[i])\n",
    "            i += 1\n",
    "        else:\n",
    "            result.append(right[j])\n",
    "            j += 1\n",
    "        if i == len(left) or j == len(right):\n",
    "            result.extend(left[i:] or right[j:])\n",
    "            break\n",
    "    \n",
    "    return result"
   ]
  },
  {
   "cell_type": "markdown",
   "metadata": {
    "ExecuteTime": {
     "end_time": "2021-06-10T14:57:35.092619Z",
     "start_time": "2021-06-10T14:57:35.086620Z"
    }
   },
   "source": [
    "## Time Complexity:\n",
    "\n",
    "- Best Case: O(n log<sub>2</sub>(n))\n",
    "- Average Case: O(n log<sub>2</sub>(n))\n",
    "- Worst Case:  O(n log<sub>2</sub>(n))"
   ]
  },
  {
   "cell_type": "markdown",
   "metadata": {},
   "source": [
    "### Why O(n log n) ?\n",
    "\n",
    "If you are given two sorted arrays(say A & B) of length n/2 then it will take O(n) time to merge and make a sorted array of length n.\n",
    "\n",
    "But if A and B are not sorted then we need to sort them first. For this we first divide array A and B of length n/2 each into two arrays of length n/4 and suppose these two arrays are already sorted.\n",
    "\n",
    "Now to merge two sorted array of length n/4 to make array A of length n/2 will take O(n/2) time and similarly array B formation will also take O(n/2) time.\n",
    "\n",
    "So total time to make array A and B both also took O(n). So at every stage it is taking O(n) time. So the total time for merge sort will be O(no. of stages * n).\n",
    "\n",
    "Here we are dividing array into two parts at every stage and we will continue dividing untill length of two divided array is one.\n",
    "\n",
    "So if length of array is eight then we need to divide it three times to get arrays of length one like this\n",
    "\n",
    "8 = 4+4 = 2+2+2+2 = 1+1+1+1+1+1+1+1\n",
    "\n",
    "So\n",
    "\n",
    "no. of stages = log2(8) = 3\n",
    "\n",
    "That is why merge sort is O(nlog(n)) with log2(n) iteration.\n"
   ]
  },
  {
   "cell_type": "code",
   "execution_count": 16,
   "metadata": {
    "ExecuteTime": {
     "end_time": "2021-06-10T15:00:27.227291Z",
     "start_time": "2021-06-10T15:00:27.222289Z"
    }
   },
   "outputs": [
    {
     "name": "stdout",
     "output_type": "stream",
     "text": [
      "[8, 13, 1, 4, 9, 10, 16, 5, 14, 6, 7, 2, 15, 12, 3, 19, 11, 18, 17]\n",
      "[1, 2, 3, 4, 5, 6, 7, 8, 9, 10, 11, 12, 13, 14, 15, 16, 17, 18, 19]\n"
     ]
    }
   ],
   "source": [
    "import random\n",
    "# elements are randomly shuffled\n",
    "array = [i for i in range(1, 20)]\n",
    "random.shuffle(array)\n",
    "print(array)\n",
    "# 20 shuffled elements need 324 iterations approx = n * logn\n",
    "print(merge_sort(array))"
   ]
  },
  {
   "cell_type": "code",
   "execution_count": null,
   "metadata": {},
   "outputs": [],
   "source": []
  },
  {
   "cell_type": "markdown",
   "metadata": {},
   "source": [
    "## Quick Sort"
   ]
  },
  {
   "cell_type": "code",
   "execution_count": 17,
   "metadata": {
    "ExecuteTime": {
     "end_time": "2021-06-10T15:00:57.748682Z",
     "start_time": "2021-06-10T15:00:57.743682Z"
    }
   },
   "outputs": [],
   "source": [
    "def partition(array, low, high):\n",
    "    i = low - 1            # index of smaller element\n",
    "    pivot = array[high]    # pivot \n",
    "    \n",
    "    for j in range(low, high):\n",
    "        # If current element is smaller than the pivot\n",
    "        \n",
    "        if array[j] < pivot:\n",
    "        # increment index of smaller element\n",
    "        \n",
    "            i += 1\n",
    "            array[i], array[j] = array[j], array[i]\n",
    "            \n",
    "    array[i + 1], array[high] = array[high], array[i + 1]\n",
    "    return i + 1\n",
    "\n",
    "def quick_sort(array, low, high):\n",
    "    if low < high:\n",
    "        # pi is partitioning index, arr[p] is now\n",
    "        # at right place \n",
    "        temp = partition(array, low, high)\n",
    "        \n",
    "        # Separately sort elements before\n",
    "        # partition and after partition \n",
    "        quick_sort(array, low, temp - 1)\n",
    "        quick_sort(array, temp + 1, high)"
   ]
  },
  {
   "cell_type": "markdown",
   "metadata": {
    "ExecuteTime": {
     "end_time": "2021-06-10T15:01:29.580224Z",
     "start_time": "2021-06-10T15:01:29.575224Z"
    }
   },
   "source": [
    "## Time Complexity:\n",
    "\n",
    "- Best Case: O(n log<sub>2</sub>(n))\n",
    "- Average Case: O(n log<sub>2</sub>(n))\n",
    "- Worst Case:  O(n<sup>2</sup>)"
   ]
  },
  {
   "cell_type": "code",
   "execution_count": 19,
   "metadata": {
    "ExecuteTime": {
     "end_time": "2021-06-10T15:02:04.770694Z",
     "start_time": "2021-06-10T15:02:04.766694Z"
    }
   },
   "outputs": [
    {
     "name": "stdout",
     "output_type": "stream",
     "text": [
      "[17, 4, 7, 3, 12, 15, 11, 8, 2, 1, 9, 18, 13, 5, 19, 6, 10, 16, 14]\n",
      "[1, 2, 3, 4, 5, 6, 7, 8, 9, 10, 11, 12, 13, 14, 15, 16, 17, 18, 19]\n"
     ]
    }
   ],
   "source": [
    "import random\n",
    "# elements are randomly shuffled\n",
    "array = [i for i in range(1, 20)]\n",
    "random.shuffle(array)\n",
    "print(array)\n",
    "# 20 shuffled elements need 324 iterations approx = n * n\n",
    "quick_sort(array, 0, len(array) - 1)\n",
    "print(array)"
   ]
  },
  {
   "cell_type": "code",
   "execution_count": null,
   "metadata": {},
   "outputs": [],
   "source": []
  },
  {
   "cell_type": "markdown",
   "metadata": {},
   "source": [
    "### Why Quick Sort is preferred over MergeSort for sorting Arrays\n",
    "Quick Sort in its general form is an in-place sort (i.e. it doesn’t require any extra storage) whereas merge sort requires O(N) extra storage, N denoting the array size which may be quite expensive. Allocating and de-allocating the extra space used for merge sort increases the running time of the algorithm. Comparing average complexity we find that both type of sorts have O(NlogN) average complexity but the constants differ. For arrays, merge sort loses due to the use of extra O(N) storage space.\n",
    "\n",
    "Most practical implementations of Quick Sort use randomized version. The randomized version has expected time complexity of O(nLogn). The worst case is possible in randomized version also, but worst case doesn’t occur for a particular pattern (like sorted array) and randomized Quick Sort works well in practice.\n",
    "\n",
    "Quick Sort is also a cache friendly sorting algorithm as it has good locality of reference when used for arrays.\n",
    "\n",
    "Quick Sort is also tail recursive, therefore tail call optimizations is done.\n",
    "\n",
    "###  Why MergeSort is preferred over QuickSort for Linked Lists?\n",
    "In case of linked lists the case is different mainly due to difference in memory allocation of arrays and linked lists. Unlike arrays, linked list nodes may not be adjacent in memory. Unlike array, in linked list, we can insert items in the middle in O(1) extra space and O(1) time. Therefore merge operation of merge sort can be implemented without extra space for linked lists.\n",
    "\n",
    "In arrays, we can do random access as elements are continuous in memory. Let us say we have an integer (4-byte) array A and let the address of A[0] be x then to access A[i], we can directly access the memory at (x + i*4). Unlike arrays, we can not do random access in linked list. Quick Sort requires a lot of this kind of access. In linked list to access i’th index, we have to travel each and every node from the head to i’th node as we don’t have continuous block of memory. Therefore, the overhead increases for quick sort. Merge sort accesses data sequentially and the need of random access is low."
   ]
  },
  {
   "cell_type": "code",
   "execution_count": null,
   "metadata": {},
   "outputs": [],
   "source": []
  },
  {
   "cell_type": "markdown",
   "metadata": {},
   "source": [
    "## Count Sort"
   ]
  },
  {
   "cell_type": "code",
   "execution_count": 26,
   "metadata": {
    "ExecuteTime": {
     "end_time": "2021-06-10T15:12:51.818973Z",
     "start_time": "2021-06-10T15:12:51.812975Z"
    }
   },
   "outputs": [],
   "source": [
    "def countSort(arr): \n",
    "  \n",
    "    # The output character array that will have sorted arr \n",
    "    output = [0 for i in range(256)] \n",
    "  \n",
    "    # Create a count array to store count of inidividul \n",
    "    # characters and initialize count array as 0 \n",
    "    count = [0 for i in range(256)] \n",
    "  \n",
    "    # For storing the resulting answer since the  \n",
    "    # string is immutable \n",
    "    ans = [\"\" for _ in arr] \n",
    "  \n",
    "    # Store count of each character \n",
    "    for i in arr: \n",
    "        count[ord(i)] += 1\n",
    "  \n",
    "    # Change count[i] so that count[i] now contains actual \n",
    "    # position of this character in output array \n",
    "    for i in range(256): \n",
    "        count[i] += count[i-1] \n",
    "  \n",
    "    # Build the output character array \n",
    "    for i in range(len(arr)): \n",
    "        output[count[ord(arr[i])]-1] = arr[i] \n",
    "        count[ord(arr[i])] -= 1\n",
    "  \n",
    "    # Copy the output array to arr, so that arr now \n",
    "    # contains sorted characters \n",
    "    for i in range(len(arr)): \n",
    "        ans[i] = output[i] \n",
    "    return ans  \n"
   ]
  },
  {
   "cell_type": "code",
   "execution_count": 32,
   "metadata": {
    "ExecuteTime": {
     "end_time": "2021-06-10T15:14:25.617764Z",
     "start_time": "2021-06-10T15:14:25.612763Z"
    }
   },
   "outputs": [
    {
     "name": "stdout",
     "output_type": "stream",
     "text": [
      "datastructuresbysahilkavitake\n",
      "aaaaabcdeehiikklrrsssttttuuvy\n"
     ]
    }
   ],
   "source": [
    "\n",
    "array = \"datastructuresbysahilkavitake\"\n",
    "print(array)\n",
    "print(\"\".join(countSort(array)))"
   ]
  },
  {
   "cell_type": "markdown",
   "metadata": {},
   "source": [
    "Counting sort is a sorting technique based on keys between a specific range. It works by counting the number of objects having distinct key values (kind of hashing). Then doing some arithmetic to calculate the position of each object in the output sequence."
   ]
  },
  {
   "cell_type": "markdown",
   "metadata": {},
   "source": [
    "### Time Complexity: \n",
    "* O(n+k) where n is the number of elements in input array and k is the range of input. "
   ]
  },
  {
   "cell_type": "code",
   "execution_count": null,
   "metadata": {},
   "outputs": [],
   "source": []
  },
  {
   "cell_type": "markdown",
   "metadata": {},
   "source": [
    "## Heap Sort"
   ]
  },
  {
   "cell_type": "code",
   "execution_count": 34,
   "metadata": {
    "ExecuteTime": {
     "end_time": "2021-06-10T15:17:08.121042Z",
     "start_time": "2021-06-10T15:17:08.116039Z"
    }
   },
   "outputs": [],
   "source": [
    "def heapify(nums, heap_size, root_index):\n",
    "    # Assume the index of the largest element is the root index\n",
    "    largest = root_index\n",
    "    left_child = (2 * root_index) + 1\n",
    "    right_child = (2 * root_index) + 2\n",
    "\n",
    "    if left_child < heap_size and nums[left_child] > nums[largest]:\n",
    "        largest = left_child\n",
    "\n",
    "    if right_child < heap_size and nums[right_child] > nums[largest]:\n",
    "        largest = right_child\n",
    "\n",
    "    if largest != root_index:\n",
    "        nums[root_index], nums[largest] = nums[largest], nums[root_index]\n",
    "        # Heapify the new root element to ensure it's the largest\n",
    "        heapify(nums, heap_size, largest)\n",
    "\n",
    "\n",
    "def heap_sort(nums):\n",
    "    n = len(nums)\n",
    "    \n",
    "    for i in range(n, -1, -1):\n",
    "        heapify(nums, n, i)\n",
    "\n",
    "    # Move the root of the max heap to the end of\n",
    "    for i in range(n - 1, 0, -1):\n",
    "        nums[i], nums[0] = nums[0], nums[i]\n",
    "        heapify(nums, i, 0)\n",
    "\n"
   ]
  },
  {
   "cell_type": "code",
   "execution_count": 36,
   "metadata": {
    "ExecuteTime": {
     "end_time": "2021-06-10T15:17:10.503602Z",
     "start_time": "2021-06-10T15:17:10.498602Z"
    }
   },
   "outputs": [
    {
     "name": "stdout",
     "output_type": "stream",
     "text": [
      "[18, 19, 14, 2, 7, 16, 8, 3, 17, 10, 1, 4, 12, 15, 13, 5, 9, 11, 6]\n",
      "[1, 2, 3, 4, 5, 6, 7, 8, 9, 10, 11, 12, 13, 14, 15, 16, 17, 18, 19]\n"
     ]
    }
   ],
   "source": [
    "import random\n",
    "# elements are randomly shuffled\n",
    "array = [i for i in range(1, 20)]\n",
    "random.shuffle(array)\n",
    "print(array)\n",
    "heap_sort(array)\n",
    "print(array)"
   ]
  },
  {
   "cell_type": "markdown",
   "metadata": {},
   "source": [
    "## Time Complexity:\n",
    "\n",
    "- Best Case: O(n log<sub>2</sub>(n))\n",
    "- Average Case: O(n log<sub>2</sub>(n))\n",
    "- Worst Case:  O(n log<sub>2</sub>(n))"
   ]
  },
  {
   "cell_type": "code",
   "execution_count": null,
   "metadata": {},
   "outputs": [],
   "source": []
  }
 ],
 "metadata": {
  "kernelspec": {
   "display_name": "Python 3",
   "language": "python",
   "name": "python3"
  },
  "language_info": {
   "codemirror_mode": {
    "name": "ipython",
    "version": 3
   },
   "file_extension": ".py",
   "mimetype": "text/x-python",
   "name": "python",
   "nbconvert_exporter": "python",
   "pygments_lexer": "ipython3",
   "version": "3.8.8"
  },
  "toc": {
   "base_numbering": 1,
   "nav_menu": {},
   "number_sections": false,
   "sideBar": true,
   "skip_h1_title": false,
   "title_cell": "Table of Contents",
   "title_sidebar": "Contents",
   "toc_cell": false,
   "toc_position": {},
   "toc_section_display": true,
   "toc_window_display": false
  }
 },
 "nbformat": 4,
 "nbformat_minor": 2
}
