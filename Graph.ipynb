{
 "cells": [
  {
   "cell_type": "markdown",
   "metadata": {},
   "source": [
    "# Graph\n"
   ]
  },
  {
   "cell_type": "markdown",
   "metadata": {},
   "source": [
    "* Graph is a data structure that consists of following two components:\n",
    "    1. A finite set of vertices also called as **nodes.**\n",
    "    2. A finite set of ordered pair of the form (u, v) called as **edge**. The pair is ordered because (u, v) is not same as (v, u) in case of directed graph(di-graph). The pair of form (u, v) indicates that there is an edge from vertex u to vertex v. The edges may contain weight/value/cost.\n",
    "* Graphs can be represented by two ways:\n",
    "    1. **Adjacency Matrix**: A two-dimensional matrix, in which the rows represent source vertices and columns represent destination vertices. Data on edges and vertices must be stored externally. Only the cost for one edge can be stored between each pair of vertices.\n",
    "    2. **Adjacency List**: Vertices are stored as records or objects, and every vertex stores a list of adjacent vertices. This data structure allows the storage of additional data on the vertices. Additional data can be stored if edges are also stored as objects, in which case each vertex stores its incident edges and each edge stores its incident vertices."
   ]
  },
  {
   "cell_type": "markdown",
   "metadata": {},
   "source": [
    "### Time Complexities:"
   ]
  },
  {
   "cell_type": "markdown",
   "metadata": {},
   "source": [
    "_NOTE: AL = Adjacency List, AM = Adjacency Matrix, V = Vertex, E = Edge_\n",
    "* Store Graph: AL: O(|V| + |E|), AM: O(|V| * |V|)\n",
    "* Add Vertex: AL: O(1), AM: O(|V| * |V|)\n",
    "* Add Edge: AL: O(1), AM: O(1)\n",
    "* Remove Vertex: AL: O(|E|), AM: O(|V| * |V|)\n",
    "* Remove Edge: AL: O(|V|), AM: O(1)\n",
    "<br><br>\n",
    "* AL: Slow to remove vertices and edges, because it needs to find all vertices or edges\n",
    "* AM: Slow to add or remove vertices, because matrix must be resized/copied"
   ]
  },
  {
   "cell_type": "markdown",
   "metadata": {},
   "source": [
    "## Implementation of Graph"
   ]
  },
  {
   "cell_type": "code",
   "execution_count": 2,
   "metadata": {
    "ExecuteTime": {
     "end_time": "2021-06-10T15:37:57.696043Z",
     "start_time": "2021-06-10T15:37:57.688044Z"
    }
   },
   "outputs": [],
   "source": [
    "class Vertex:\n",
    "    def __init__(self, node):\n",
    "        self.id = node\n",
    "        self.adjacent = {}\n",
    "\n",
    "    def __str__(self):\n",
    "        return str(self.id) + ' adjacent: ' + str([x.id for x in self.adjacent])\n",
    "\n",
    "    def add_neighbor(self, neighbor, weight=0):\n",
    "        self.adjacent[neighbor] = weight\n",
    "\n",
    "    def get_connections(self):\n",
    "        return self.adjacent.keys()  \n",
    "\n",
    "    def get_id(self):\n",
    "        return self.id\n",
    "\n",
    "    def get_weight(self, neighbor):\n",
    "        return self.adjacent[neighbor]\n",
    "\n",
    "class Graph:\n",
    "    def __init__(self):\n",
    "        self.vert_dict = {}\n",
    "        self.num_vertices = 0\n",
    "\n",
    "    def __iter__(self):\n",
    "        return iter(self.vert_dict.values())\n",
    "\n",
    "    def add_vertex(self, node):\n",
    "        self.num_vertices = self.num_vertices + 1\n",
    "        new_vertex = Vertex(node)\n",
    "        self.vert_dict[node] = new_vertex\n",
    "        return new_vertex\n",
    "\n",
    "    def get_vertex(self, n):\n",
    "        if n in self.vert_dict:\n",
    "            return self.vert_dict[n]\n",
    "        else:\n",
    "            return None\n",
    "\n",
    "    def add_edge(self, frm, to, cost = 0):\n",
    "        if frm not in self.vert_dict:\n",
    "            self.add_vertex(frm)\n",
    "        if to not in self.vert_dict:\n",
    "            self.add_vertex(to)\n",
    "\n",
    "        self.vert_dict[frm].add_neighbor(self.vert_dict[to], cost)\n",
    "        self.vert_dict[to].add_neighbor(self.vert_dict[frm], cost)\n",
    "\n",
    "    def get_vertices(self):\n",
    "        return self.vert_dict.keys()\n",
    "\n",
    "    def printAdjacencyList(self):\n",
    "        for v in self:\n",
    "            print ('g.vert_dict[%s]=%s' %(v.get_id(), g.vert_dict[v.get_id()]))\n",
    "        \n",
    "\n",
    "    "
   ]
  },
  {
   "cell_type": "code",
   "execution_count": 5,
   "metadata": {
    "ExecuteTime": {
     "end_time": "2021-06-10T15:39:39.252380Z",
     "start_time": "2021-06-10T15:39:39.244378Z"
    }
   },
   "outputs": [
    {
     "name": "stdout",
     "output_type": "stream",
     "text": [
      "Edges of grah with weight : \n",
      "\n",
      "( a , b,   7)\n",
      "( a , c,   9)\n",
      "( a , f,  14)\n",
      "( b , a,   7)\n",
      "( b , c,  10)\n",
      "( b , d,  15)\n",
      "( c , a,   9)\n",
      "( c , b,  10)\n",
      "( c , d,  11)\n",
      "( c , f,   2)\n",
      "( d , b,  15)\n",
      "( d , c,  11)\n",
      "( d , e,   6)\n",
      "( e , d,   6)\n",
      "( e , f,   9)\n",
      "( f , a,  14)\n",
      "( f , c,   2)\n",
      "( f , e,   9)\n",
      "\n",
      "Adjacency List : \n",
      "\n",
      "g.vert_dict[a]=a adjacent: ['b', 'c', 'f']\n",
      "g.vert_dict[b]=b adjacent: ['a', 'c', 'd']\n",
      "g.vert_dict[c]=c adjacent: ['a', 'b', 'd', 'f']\n",
      "g.vert_dict[d]=d adjacent: ['b', 'c', 'e']\n",
      "g.vert_dict[e]=e adjacent: ['d', 'f']\n",
      "g.vert_dict[f]=f adjacent: ['a', 'c', 'e']\n"
     ]
    }
   ],
   "source": [
    "g = Graph()\n",
    "\n",
    "g.add_vertex('a')\n",
    "g.add_vertex('b')\n",
    "g.add_vertex('c')\n",
    "g.add_vertex('d')\n",
    "g.add_vertex('e')\n",
    "g.add_vertex('f')\n",
    "\n",
    "g.add_edge('a', 'b', 7)  \n",
    "g.add_edge('a', 'c', 9)\n",
    "g.add_edge('a', 'f', 14)\n",
    "g.add_edge('b', 'c', 10)\n",
    "g.add_edge('b', 'd', 15)\n",
    "g.add_edge('c', 'd', 11)\n",
    "g.add_edge('c', 'f', 2)\n",
    "g.add_edge('d', 'e', 6)\n",
    "g.add_edge('e', 'f', 9)\n",
    "\n",
    "print(\"Edges of grah with weight : \\n\")\n",
    "\n",
    "for v in g:\n",
    "    for w in v.get_connections():\n",
    "        vid = v.get_id()\n",
    "        wid = w.get_id()\n",
    "        print ('( %s , %s, %3d)'  % ( vid, wid, v.get_weight(w)))\n",
    "\n",
    "\n",
    "print(\"\\nAdjacency List : \\n\")\n",
    "g.printAdjacencyList()"
   ]
  },
  {
   "cell_type": "markdown",
   "metadata": {},
   "source": [
    "### Application of Graphs:"
   ]
  },
  {
   "cell_type": "markdown",
   "metadata": {},
   "source": [
    "* In computer science, graphs are used to represent networks of communication, data organization, computational devices.\n",
    "* Graph theory is also used to study molecules in chemistry and physics.\n",
    "* In mathematics, graphs are useful in geometry.\n",
    "* Weighted graphs, are used to represent structures in which pairwise connections have some numerical values. Ex: Road Network.\n",
    "* Graph algorithms are useful for calculating the shortest path in Routing .\n",
    "* Maps – finding the shortest/cheapest path for a car from one city to another, by using given roads.\n",
    "* To visualize organized data.\n",
    "* Directed Graphs are used in Google’s Page Ranking Algorithm.\n",
    "* Social Networks use graphs to represent different users as vertices and edges to represent the connections between them.\n",
    "* In a mapping application, graphs are used to represent places and the path (distance) between them."
   ]
  },
  {
   "cell_type": "code",
   "execution_count": null,
   "metadata": {},
   "outputs": [],
   "source": []
  }
 ],
 "metadata": {
  "kernelspec": {
   "display_name": "Python 3",
   "language": "python",
   "name": "python3"
  },
  "language_info": {
   "codemirror_mode": {
    "name": "ipython",
    "version": 3
   },
   "file_extension": ".py",
   "mimetype": "text/x-python",
   "name": "python",
   "nbconvert_exporter": "python",
   "pygments_lexer": "ipython3",
   "version": "3.8.8"
  },
  "toc": {
   "base_numbering": 1,
   "nav_menu": {},
   "number_sections": false,
   "sideBar": true,
   "skip_h1_title": false,
   "title_cell": "Table of Contents",
   "title_sidebar": "Contents",
   "toc_cell": false,
   "toc_position": {},
   "toc_section_display": true,
   "toc_window_display": false
  }
 },
 "nbformat": 4,
 "nbformat_minor": 2
}
