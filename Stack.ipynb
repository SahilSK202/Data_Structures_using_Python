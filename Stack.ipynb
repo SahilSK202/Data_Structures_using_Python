{
 "cells": [
  {
   "cell_type": "markdown",
   "metadata": {},
   "source": [
    "## What is Stack?"
   ]
  },
  {
   "cell_type": "markdown",
   "metadata": {},
   "source": [
    "\n",
    "* A stack is an ordered list of similar data elements in which all insertion and deletion are permitted only at one end, called top. \n",
    "* The last element inserted is the first one to be deleted. Hence, it is called the Last in First out (LIFO) structure.\n"
   ]
  },
  {
   "cell_type": "markdown",
   "metadata": {},
   "source": [
    "### Applications of Stack:"
   ]
  },
  {
   "cell_type": "markdown",
   "metadata": {},
   "source": [
    "* Balancing of symbols\n",
    "* lnfix-to-postfix conversion\n",
    "* Evaluation of postfix expression\n",
    "* Implementing function calls (including recursion)\n",
    "* Page-visited history in a Web browser [Back Buttons]\n",
    "* Undo sequence in a text editor\n",
    "* Matching Tags in HTML and XML\n",
    "* Used in many algorithms like Tower of Hanoi, stock span problem, histogram problem.\n",
    "* Used in may graph algorithms like tree traversal , DFS etc.\n",
    "* Stack memory , call stack in RAM"
   ]
  },
  {
   "cell_type": "markdown",
   "metadata": {},
   "source": [
    "### Implementing Stack using Python Lists (Array):"
   ]
  },
  {
   "cell_type": "code",
   "execution_count": 6,
   "metadata": {
    "ExecuteTime": {
     "end_time": "2021-06-08T11:34:50.521548Z",
     "start_time": "2021-06-08T11:34:50.475539Z"
    }
   },
   "outputs": [
    {
     "name": "stdout",
     "output_type": "stream",
     "text": [
      "Stack is : 0 1 2 3 4 5 6 7 8 9\n",
      "Stack is full ? True\n",
      "Popped element : 9\n",
      "Stack is : 0 1 2 3 4 5 6 7 8\n",
      "Stack top : 8\n",
      "Stack is empty ? False\n",
      "Stack is full ? False\n",
      "Current Stack size : 9\n"
     ]
    }
   ],
   "source": [
    "class Stack(object):\n",
    "    def __init__(self, limit = 10):\n",
    "        self.stack = []\n",
    "        self.limit = limit\n",
    "    \n",
    "    # for printing the stack contents\n",
    "    def __str__(self):\n",
    "        return ' '.join([str(i) for i in self.stack])\n",
    "    \n",
    "    # for pushing an element on to the stack\n",
    "    def push(self, data):\n",
    "        if len(self.stack) >= self.limit:\n",
    "            print('Stack Overflow')\n",
    "        else:\n",
    "            self.stack.append(data)\n",
    "            \n",
    "    # for popping the uppermost element\n",
    "    def pop(self):\n",
    "        if len(self.stack) <= 0:\n",
    "            print('Stack Underflow')\n",
    "        else:\n",
    "            return self.stack.pop()\n",
    "            \n",
    "    # for peeking the top-most element of the stack\n",
    "    def peek(self):\n",
    "        if len(self.stack) <= 0:\n",
    "            print('Stack Underflow')\n",
    "        else:\n",
    "            return self.stack[-1]\n",
    "        \n",
    "    # to check if stack is empty\n",
    "    def isEmpty(self):\n",
    "        return len(self.stack) == 0\n",
    "    \n",
    "    # to check if stack is full\n",
    "    def isFull(self):\n",
    "        return len(self.stack) == self.limit\n",
    "    \n",
    "    # for checking the size of stack\n",
    "    def size(self):\n",
    "        return len(self.stack)\n",
    "\n",
    "myStack = Stack(10)\n",
    "for i in range(10):\n",
    "    myStack.push(i)\n",
    "print(\"Stack is :\" ,myStack)\n",
    "print(\"Stack is full ?\" ,myStack.isFull())\n",
    "print(\"Popped element :\" ,myStack.pop())            # popping the top element\n",
    "print(\"Stack is :\" ,myStack)\n",
    "print(\"Stack top :\" ,myStack.peek())          # printing the top element\n",
    "print(\"Stack is empty ?\" ,myStack.isEmpty())\n",
    "print(\"Stack is full ?\" ,myStack.isFull())\n",
    "print(\"Current Stack size :\" ,myStack.size())"
   ]
  },
  {
   "cell_type": "markdown",
   "metadata": {},
   "source": [
    "### Time Complexities:"
   ]
  },
  {
   "cell_type": "markdown",
   "metadata": {},
   "source": [
    "* Push: O(1)\n",
    "* Pop: O(1)\n",
    "* Peek: O(1)\n",
    "* isEmpty: O(1)\n",
    "* Size: O(1)"
   ]
  },
  {
   "cell_type": "markdown",
   "metadata": {},
   "source": [
    "### Limitations:"
   ]
  },
  {
   "cell_type": "markdown",
   "metadata": {},
   "source": [
    "* Stack size is to be defined first and cannot be changed.\n",
    "* Trying to push a new element into a full stack causes an implementation-specific exception.\n"
   ]
  },
  {
   "cell_type": "code",
   "execution_count": null,
   "metadata": {},
   "outputs": [],
   "source": []
  },
  {
   "cell_type": "markdown",
   "metadata": {},
   "source": [
    "## Practicals"
   ]
  },
  {
   "cell_type": "markdown",
   "metadata": {},
   "source": [
    "### 1. Infix-Postfix"
   ]
  },
  {
   "cell_type": "code",
   "execution_count": 7,
   "metadata": {
    "ExecuteTime": {
     "end_time": "2021-06-08T12:28:38.454317Z",
     "start_time": "2021-06-08T12:28:38.447313Z"
    }
   },
   "outputs": [],
   "source": [
    "def isOperand(char):\n",
    "    return (ord(char) >= ord('a') and ord(char) <= ord('z')) or (ord(char) >= ord('A') and ord(char) <= ord('Z'))\n",
    "\n",
    "def precedence(char):\n",
    "    if char == '+' or char == '-':\n",
    "        return 1\n",
    "    elif char == '*' or char  == '/':\n",
    "        return 2\n",
    "    elif char == '^':\n",
    "        return 3\n",
    "    else:\n",
    "        return -1\n",
    "\n",
    "def infixToPostfix(myExp, myStack):\n",
    "    postFix = []\n",
    "    for i in range(len(myExp)):\n",
    "        if (isOperand(myExp[i])):\n",
    "            postFix.append(myExp[i])\n",
    "        elif(myExp[i] == '('):\n",
    "            myStack.push(myExp[i])\n",
    "        elif(myExp[i] == ')'):\n",
    "            topOperator = myStack.pop()\n",
    "            while(not myStack.isEmpty() and topOperator != '('):\n",
    "                postFix.append(topOperator)\n",
    "                topOperator = myStack.pop()\n",
    "        else:\n",
    "            while (not myStack.isEmpty()) and (precedence(myExp[i]) <= precedence(myStack.peek())):\n",
    "                postFix.append(myStack.pop())\n",
    "            myStack.push(myExp[i])\n",
    "\n",
    "    while(not myStack.isEmpty()):\n",
    "        postFix.append(myStack.pop())\n",
    "    return ' '.join(postFix)\n",
    "    "
   ]
  },
  {
   "cell_type": "code",
   "execution_count": 19,
   "metadata": {
    "ExecuteTime": {
     "end_time": "2021-06-08T12:32:32.113471Z",
     "start_time": "2021-06-08T12:32:32.109471Z"
    }
   },
   "outputs": [
    {
     "name": "stdout",
     "output_type": "stream",
     "text": [
      "Infix: a+b*(c^d-e)^(f+g*h)-i\n",
      "Postfix: a b c d ^ e - f g h * + ^ * + i -\n"
     ]
    }
   ],
   "source": [
    "myExp = 'a+b*(c^d-e)^(f+g*h)-i'\n",
    "# myExp = [i for i in myExp]\n",
    "print('Infix:',myExp)\n",
    "myStack = Stack(len(myExp))\n",
    "print('Postfix:',infixToPostfix(myExp, myStack))"
   ]
  },
  {
   "cell_type": "code",
   "execution_count": null,
   "metadata": {},
   "outputs": [],
   "source": []
  },
  {
   "cell_type": "markdown",
   "metadata": {},
   "source": [
    "## 2.balanced Paranthesis"
   ]
  },
  {
   "cell_type": "code",
   "execution_count": 22,
   "metadata": {
    "ExecuteTime": {
     "end_time": "2021-06-08T12:36:43.752540Z",
     "start_time": "2021-06-08T12:36:43.748538Z"
    }
   },
   "outputs": [],
   "source": [
    "def parseParenthesis(string):\n",
    "    balanced = 1\n",
    "    index = 0\n",
    "    myStack = Stack(len(string))\n",
    "    while (index < len(string)) and (balanced == 1):\n",
    "        check = string[index]\n",
    "        if check == '(':\n",
    "            myStack.push(check)\n",
    "        else:\n",
    "            if myStack.isEmpty():\n",
    "                balanced = 0\n",
    "            else:\n",
    "                myStack.pop()\n",
    "        index += 1\n",
    "\n",
    "    if balanced == 1 and myStack.isEmpty():\n",
    "        return True\n",
    "    else:\n",
    "        return False\n",
    "\n",
    "\n"
   ]
  },
  {
   "cell_type": "code",
   "execution_count": 23,
   "metadata": {
    "ExecuteTime": {
     "end_time": "2021-06-08T12:36:44.890374Z",
     "start_time": "2021-06-08T12:36:44.148047Z"
    }
   },
   "outputs": [
    {
     "name": "stdout",
     "output_type": "stream",
     "text": [
      "True\n",
      "False\n"
     ]
    }
   ],
   "source": [
    "print(parseParenthesis('((()))'))\n",
    "print(parseParenthesis('((())'))"
   ]
  },
  {
   "cell_type": "code",
   "execution_count": null,
   "metadata": {},
   "outputs": [],
   "source": []
  },
  {
   "cell_type": "markdown",
   "metadata": {},
   "source": [
    "## 3.Decimal To binary"
   ]
  },
  {
   "cell_type": "code",
   "execution_count": 25,
   "metadata": {
    "ExecuteTime": {
     "end_time": "2021-06-08T12:37:42.200546Z",
     "start_time": "2021-06-08T12:37:42.196541Z"
    }
   },
   "outputs": [],
   "source": [
    "def dtob(decimal, base = 2):\n",
    "    myStack = Stack()\n",
    "    while decimal > 0:\n",
    "        myStack.push(decimal % base)\n",
    "        decimal //= base\n",
    "\n",
    "    result = ''\n",
    "    while not myStack.isEmpty():\n",
    "        result += str(myStack.pop())\n",
    "\n",
    "    return result\n",
    "\n",
    "\n"
   ]
  },
  {
   "cell_type": "code",
   "execution_count": 27,
   "metadata": {
    "ExecuteTime": {
     "end_time": "2021-06-08T12:37:53.161590Z",
     "start_time": "2021-06-08T12:37:53.157593Z"
    }
   },
   "outputs": [
    {
     "name": "stdout",
     "output_type": "stream",
     "text": [
      "1111\n",
      "10\n"
     ]
    }
   ],
   "source": [
    "print(dtob(15))\n",
    "print(dtob(2))"
   ]
  },
  {
   "cell_type": "code",
   "execution_count": null,
   "metadata": {},
   "outputs": [],
   "source": []
  },
  {
   "cell_type": "markdown",
   "metadata": {},
   "source": [
    "## 4. Reverese String"
   ]
  },
  {
   "cell_type": "code",
   "execution_count": 29,
   "metadata": {
    "ExecuteTime": {
     "end_time": "2021-06-08T12:39:38.863689Z",
     "start_time": "2021-06-08T12:39:38.859686Z"
    }
   },
   "outputs": [],
   "source": [
    "def reverse(string):\n",
    "    myStack = Stack(len(string))\n",
    "    for i in string:\n",
    "        myStack.push(i)\n",
    "\n",
    "    result = ''\n",
    "    while not myStack.isEmpty():\n",
    "        result += myStack.pop()\n",
    "\n",
    "    return result\n",
    "    "
   ]
  },
  {
   "cell_type": "code",
   "execution_count": 30,
   "metadata": {
    "ExecuteTime": {
     "end_time": "2021-06-08T12:39:39.216526Z",
     "start_time": "2021-06-08T12:39:39.211526Z"
    }
   },
   "outputs": [
    {
     "name": "stdout",
     "output_type": "stream",
     "text": [
      "lihaS\n"
     ]
    }
   ],
   "source": [
    "print(reverse('Sahil'))"
   ]
  },
  {
   "cell_type": "code",
   "execution_count": null,
   "metadata": {},
   "outputs": [],
   "source": []
  },
  {
   "cell_type": "markdown",
   "metadata": {},
   "source": [
    "## 5.Queue implementation using stack"
   ]
  },
  {
   "cell_type": "code",
   "execution_count": 31,
   "metadata": {
    "ExecuteTime": {
     "end_time": "2021-06-08T12:40:49.963477Z",
     "start_time": "2021-06-08T12:40:49.956479Z"
    }
   },
   "outputs": [],
   "source": [
    "class StackedQueue:\n",
    "\n",
    "    def __init__(self):\n",
    "        self.stack = Stack()\n",
    "        self.alternateStack = Stack()\n",
    "\n",
    "    def enqueue(self, item):\n",
    "        while(not self.stack.is_empty()):\n",
    "            self.alternateStack.push(self.stack.pop())\n",
    "\n",
    "        self.alternateStack.push(item)\n",
    "\n",
    "        while(not self.alternateStack.is_empty()):\n",
    "            self.stack.push(self.alternateStack.pop())\n",
    "    \n",
    "    def dequeue(self):\n",
    "        return self.stack.pop()\n",
    "\n",
    "    def __repr__(self):\n",
    "        return repr(self.stack)\n",
    "\n",
    "class Stack:\n",
    "    def __init__(self):\n",
    "        self.items = []\n",
    "\n",
    "    def push(self, item):\n",
    "        self.items.append(item)\n",
    "\n",
    "    def pop(self):\n",
    "        return self.items.pop()\n",
    "\n",
    "    def size(self):\n",
    "        return len(self.items)\n",
    "\n",
    "    def is_empty(self):\n",
    "        return self.items == []\n",
    "\n",
    "    def __repr__(self):\n",
    "        return str(self.items)\n",
    "    "
   ]
  },
  {
   "cell_type": "code",
   "execution_count": 32,
   "metadata": {
    "ExecuteTime": {
     "end_time": "2021-06-08T12:40:50.440484Z",
     "start_time": "2021-06-08T12:40:50.435486Z"
    }
   },
   "outputs": [
    {
     "name": "stdout",
     "output_type": "stream",
     "text": [
      "[1, 2, 3, 4]\n",
      "[1, 2, 3]\n"
     ]
    }
   ],
   "source": [
    "structure = StackedQueue()\n",
    "structure.enqueue(4)\n",
    "structure.enqueue(3)\n",
    "structure.enqueue(2)\n",
    "structure.enqueue(1)\n",
    "print(structure)\n",
    "structure.dequeue()\n",
    "print(structure)"
   ]
  },
  {
   "cell_type": "code",
   "execution_count": null,
   "metadata": {},
   "outputs": [],
   "source": []
  }
 ],
 "metadata": {
  "kernelspec": {
   "display_name": "Python 3",
   "language": "python",
   "name": "python3"
  },
  "language_info": {
   "codemirror_mode": {
    "name": "ipython",
    "version": 3
   },
   "file_extension": ".py",
   "mimetype": "text/x-python",
   "name": "python",
   "nbconvert_exporter": "python",
   "pygments_lexer": "ipython3",
   "version": "3.8.8"
  },
  "toc": {
   "base_numbering": 1,
   "nav_menu": {},
   "number_sections": false,
   "sideBar": false,
   "skip_h1_title": false,
   "title_cell": "Table of Contents",
   "title_sidebar": "Contents",
   "toc_cell": false,
   "toc_position": {},
   "toc_section_display": true,
   "toc_window_display": false
  }
 },
 "nbformat": 4,
 "nbformat_minor": 2
}
