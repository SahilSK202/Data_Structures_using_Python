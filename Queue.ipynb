{
 "cells": [
  {
   "cell_type": "markdown",
   "id": "superior-terrace",
   "metadata": {},
   "source": [
    "## What is a Queue?\n",
    "* A queue is ADT which behaves like real world queue follows FIFO manner.\n",
    "*  A queue is an ordered list in which insertions are done at one end (rear) and deletions are done at other end (front). The first element to be inserted is the first one to be deleted. Hence, it is called First in First out (FIFO) or Last in Last out (LILO) list."
   ]
  },
  {
   "cell_type": "markdown",
   "id": "progressive-dylan",
   "metadata": {},
   "source": [
    "## Applications of Queue:\n",
    "*  When a resource is shared among multiple consumers. Examples include CPU scheduling, Disk Scheduling.\n",
    "*  When data is transferred asynchronously (data not necessarily received at same rate as sent) between two processes. Examples include IO Buffers, pipes, file IO, etc.\n",
    "*  Keyboard: As we type, sometimes keystrokes get ahead of the characters that appear on the screen. This is due to the computer doing other work at that moment. The keystrokes are being placed in a queue-like buffer so that they can eventually be displayed on the screen in the proper order."
   ]
  },
  {
   "cell_type": "code",
   "execution_count": 13,
   "id": "future-cable",
   "metadata": {
    "ExecuteTime": {
     "end_time": "2021-06-08T13:18:31.050933Z",
     "start_time": "2021-06-08T13:18:31.044933Z"
    }
   },
   "outputs": [],
   "source": [
    "# Python3 program to implement a Circular queue using an array\n",
    "class CQueue:\n",
    "  \n",
    "    # To initialize the object.\n",
    "    def __init__(self, c):\n",
    "          \n",
    "        self.queue = []\n",
    "        self.capacity = c\n",
    "        \n",
    "    # to check if queue is empty\n",
    "    def isEmpty(self):\n",
    "        return self.queue == []\n",
    "    \n",
    "    # to check if queue is full\n",
    "    def isFull(self):\n",
    "        return len(self.queue) == self.capacity\n",
    "    \n",
    "    # for checking the size of queue\n",
    "    def getSize(self):\n",
    "        return len(self.queue)\n",
    "  \n",
    "    # Function to insert an element\n",
    "    # at the rear of the queue\n",
    "    def enqueue(self, data):\n",
    "  \n",
    "        # Check queue is full or not\n",
    "        if(self.isFull()):\n",
    "            print(\"\\nQueue is full\")\n",
    "  \n",
    "        # Insert element at the rear\n",
    "        else:\n",
    "            self.queue.append(data)\n",
    "  \n",
    "    # Function to delete an element\n",
    "    # from the front of the queue\n",
    "    def dequeue(self):\n",
    "  \n",
    "        # If queue is empty\n",
    "        if(self.isEmpty()):\n",
    "            print(\"Queue is empty\")\n",
    "  \n",
    "        # Pop the front element from list\n",
    "        else:\n",
    "            return self.queue.pop(0)\n",
    "  \n",
    "    # Function to print queue elements\n",
    "    def display(self):\n",
    "          \n",
    "        if(self.isEmpty()):\n",
    "            print(\"\\nQueue is Empty\")\n",
    "  \n",
    "        # Traverse front to rear to\n",
    "        # print elements\n",
    "        for i in self.queue:\n",
    "            print(i, \"<--\", end = '')\n",
    "      \n",
    "    # Print front of queue\n",
    "    def getFront(self):\n",
    "          \n",
    "        if(self.isEmpty()):\n",
    "            print(\"\\nQueue is Empty\")\n",
    "  \n",
    "        print(\"\\nFront Element is:\",self.queue[0])\n",
    "  \n"
   ]
  },
  {
   "cell_type": "code",
   "execution_count": 21,
   "id": "impressive-poker",
   "metadata": {
    "ExecuteTime": {
     "end_time": "2021-06-08T14:31:17.261906Z",
     "start_time": "2021-06-08T14:31:17.249906Z"
    }
   },
   "outputs": [
    {
     "name": "stdout",
     "output_type": "stream",
     "text": [
      "\n",
      "Queue is Empty\n",
      "\n",
      "size is : 0\n",
      "20 <--30 <--40 <--50 <--\n",
      "size is : 4\n",
      "\n",
      "Queue is full\n",
      "20 <--30 <--40 <--50 <--\n",
      "size is : 4\n",
      "\n",
      "\n",
      "after two node deletion\n",
      "\n",
      "40 <--50 <--\n",
      "size is : 2\n",
      "\n",
      "Front Element is: 40\n",
      "40 <--50 <--60 <--\n",
      "size is : 3\n",
      "\n",
      "Queue is full\n",
      "\n",
      "Queue is full\n",
      "40 <--50 <--60 <--30 <--"
     ]
    }
   ],
   "source": [
    "# Create a new queue of\n",
    "# capacity 4\n",
    "cq = CQueue(4)\n",
    "  \n",
    "# Print queue elements\n",
    "cq.display()\n",
    "print(\"\\nsize is :\",cq.getSize())\n",
    "# Inserting elements in the queue\n",
    "cq.enqueue(20)\n",
    "cq.enqueue(30)\n",
    "cq.enqueue(40)\n",
    "cq.enqueue(50)\n",
    "  \n",
    "# Print queue elements\n",
    "q.display()\n",
    "print(\"\\nsize is :\",cq.getSize())\n",
    "  \n",
    "# Insert element in queue\n",
    "cq.enqueue(60)\n",
    "  \n",
    "# Print queue elements\n",
    "cq.display()\n",
    "print(\"\\nsize is :\",cq.getSize())\n",
    "\n",
    "cq.dequeue()\n",
    "cq.dequeue()\n",
    "print(\"\\n\\nafter two node deletion\\n\")\n",
    "  \n",
    "# Print queue elements\n",
    "cq.display()\n",
    "print(\"\\nsize is :\",cq.getSize())\n",
    "# Print front of queue\n",
    "cq.getFront()\n",
    "\n",
    "# Insert element in queue\n",
    "cq.enqueue(60)\n",
    "  \n",
    "# Print queue elements\n",
    "cq.display()\n",
    "print(\"\\nsize is :\",cq.getSize())\n",
    "cq.enqueue(30)\n",
    "cq.enqueue(40)\n",
    "cq.enqueue(50)\n",
    "cq.display()"
   ]
  },
  {
   "cell_type": "code",
   "execution_count": null,
   "id": "colonial-simple",
   "metadata": {},
   "outputs": [],
   "source": []
  },
  {
   "cell_type": "markdown",
   "id": "historical-campaign",
   "metadata": {},
   "source": [
    "## Time Complexities:\n",
    "* enqueue(): O(1)\n",
    "* dequeue(): O(1)\n",
    "* isEmpty(): O(1)\n",
    "* isFull(): O(1)\n",
    "* getFront():O(1)\n",
    "* getSize(): O(1)"
   ]
  },
  {
   "cell_type": "markdown",
   "id": "indirect-distance",
   "metadata": {},
   "source": [
    "## Limitations:\n",
    "* The maximum size of the queue must be defined prior to the execution and cannot be changed"
   ]
  },
  {
   "cell_type": "markdown",
   "id": "pretty-atlantic",
   "metadata": {},
   "source": [
    "## Extensions of Queue:\n",
    "* Deque (Double ended queue): Supports insert and delete at both the ends (front as well as rear) of the queue.\n",
    "* Circular Queue: A queue in which last position is connected back to front\n",
    "* Priority Queue: Elements are added based on their priorities (higher priority elements are popped first)"
   ]
  },
  {
   "cell_type": "code",
   "execution_count": null,
   "id": "charitable-heath",
   "metadata": {},
   "outputs": [],
   "source": []
  },
  {
   "cell_type": "markdown",
   "id": "drawn-captain",
   "metadata": {},
   "source": [
    "## Double Ended Queue DEQueue"
   ]
  },
  {
   "cell_type": "code",
   "execution_count": 18,
   "id": "announced-gauge",
   "metadata": {
    "ExecuteTime": {
     "end_time": "2021-06-08T14:07:22.221186Z",
     "start_time": "2021-06-08T14:07:22.210185Z"
    }
   },
   "outputs": [
    {
     "name": "stdout",
     "output_type": "stream",
     "text": [
      "Printing the initial deque object items \n",
      " deque(['apple', 'mango', 'orange']) \n",
      "\n",
      "Appending a new element to the right of deque\n",
      "deque(['apple', 'mango', 'orange', 'papaya']) \n",
      "\n",
      "Appending a new element to the left of deque\n",
      "deque(['strawberry', 'apple', 'mango', 'orange', 'papaya']) \n",
      "\n",
      "Counting the the occurrence of apple in deque\n",
      "1 \n",
      "\n",
      "Extending the deque with new items on the right\n",
      "deque(['strawberry', 'apple', 'mango', 'orange', 'papaya', 'grapes', 'watermelon']) \n",
      "\n",
      "Extending the deque with new items on the left\n",
      "deque(['guava', 'pear', 'strawberry', 'apple', 'mango', 'orange', 'papaya', 'grapes', 'watermelon']) \n",
      "\n",
      "Finding the index of an item\n",
      "2 \n",
      "\n",
      "Inserting an item to the deque by specifiying the index\n",
      "deque(['guava', 'pear', 'banana', 'strawberry', 'apple', 'mango', 'orange', 'papaya', 'grapes', 'watermelon']) \n",
      "\n",
      "Popping out last item from the right\n",
      "watermelon \n",
      "\n",
      "Popping out first item from the left\n",
      "guava \n",
      "\n",
      "Removing an item from the deque\n",
      "deque(['pear', 'banana', 'strawberry', 'mango', 'orange', 'papaya', 'grapes']) \n",
      "\n"
     ]
    }
   ],
   "source": [
    "#importing deque from collections module\n",
    "from collections import deque\n",
    "\n",
    "#initializing the deque object\n",
    "deq = deque(['apple', 'mango', 'orange'])\n",
    "\n",
    "#printing the initial deque object \n",
    "print(\"Printing the initial deque object items \\n\" , deq, '\\n')\n",
    "\n",
    "#append(x) demonstration\n",
    "print(\"Appending a new element to the right of deque\")\n",
    "deq.append('papaya')\n",
    "print(deq , '\\n') \n",
    "\n",
    "#appendleft(x) demonstration\n",
    "print(\"Appending a new element to the left of deque\")\n",
    "deq.appendleft('strawberry')\n",
    "print(deq , '\\n') \n",
    "\n",
    "#count(x) demonstration\n",
    "print(\"Counting the the occurrence of apple in deque\")\n",
    "print(deq.count('apple') , '\\n') \n",
    "\n",
    "#extend(iterable) demonstration\n",
    "deq.extend(['grapes', 'watermelon'])\n",
    "print(\"Extending the deque with new items on the right\")\n",
    "print(deq, \"\\n\")\n",
    "\n",
    "#extendleft(iterable) demonstration\n",
    "deq.extendleft(['pear', 'guava'])\n",
    "print(\"Extending the deque with new items on the left\")\n",
    "print(deq, \"\\n\") \n",
    "\n",
    "#index(x [, start [, stop]]) demonstration\n",
    "print(\"Finding the index of an item\")\n",
    "print(deq.index('strawberry'), \"\\n\") \n",
    "\n",
    "#insert(i,x) demonstration\n",
    "print(\"Inserting an item to the deque by specifiying the index\")\n",
    "deq.insert(2,'banana')\n",
    "print(deq, \"\\n\") \n",
    "\n",
    "#pop() demonstration\n",
    "print(\"Popping out last item from the right\")\n",
    "print(deq.pop(), \"\\n\") \n",
    "\n",
    "#popleft() demonstration\n",
    "print(\"Popping out first item from the left\")\n",
    "print(deq.popleft(), \"\\n\") \n",
    "\n",
    "#remove() demonstration\n",
    "print(\"Removing an item from the deque\")\n",
    "deq.remove(\"apple\")\n",
    "print(deq, \"\\n\")"
   ]
  },
  {
   "cell_type": "code",
   "execution_count": null,
   "id": "recognized-narrow",
   "metadata": {},
   "outputs": [],
   "source": []
  }
 ],
 "metadata": {
  "kernelspec": {
   "display_name": "Python 3",
   "language": "python",
   "name": "python3"
  },
  "language_info": {
   "codemirror_mode": {
    "name": "ipython",
    "version": 3
   },
   "file_extension": ".py",
   "mimetype": "text/x-python",
   "name": "python",
   "nbconvert_exporter": "python",
   "pygments_lexer": "ipython3",
   "version": "3.8.8"
  },
  "toc": {
   "base_numbering": 1,
   "nav_menu": {},
   "number_sections": false,
   "sideBar": true,
   "skip_h1_title": false,
   "title_cell": "Table of Contents",
   "title_sidebar": "Contents",
   "toc_cell": false,
   "toc_position": {},
   "toc_section_display": true,
   "toc_window_display": false
  }
 },
 "nbformat": 4,
 "nbformat_minor": 5
}
